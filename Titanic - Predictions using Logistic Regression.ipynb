{
 "cells": [
  {
   "cell_type": "code",
   "execution_count": 122,
   "id": "d29d64a9",
   "metadata": {},
   "outputs": [],
   "source": [
    "import numpy as np\n",
    "import pandas as pd\n",
    "import matplotlib.pyplot as plt\n",
    "import seaborn as sns\n",
    "import os\n",
    "%matplotlib inline"
   ]
  },
  {
   "cell_type": "markdown",
   "id": "5d3896f3",
   "metadata": {},
   "source": [
    "## Explore The Data"
   ]
  },
  {
   "cell_type": "code",
   "execution_count": 123,
   "id": "0aa17499",
   "metadata": {},
   "outputs": [
    {
     "name": "stdout",
     "output_type": "stream",
     "text": [
      "<class 'pandas.core.frame.DataFrame'>\n",
      "RangeIndex: 891 entries, 0 to 890\n",
      "Data columns (total 12 columns):\n",
      " #   Column       Non-Null Count  Dtype  \n",
      "---  ------       --------------  -----  \n",
      " 0   PassengerId  891 non-null    int64  \n",
      " 1   Survived     891 non-null    int64  \n",
      " 2   Pclass       891 non-null    int64  \n",
      " 3   Name         891 non-null    object \n",
      " 4   Sex          891 non-null    object \n",
      " 5   Age          714 non-null    float64\n",
      " 6   SibSp        891 non-null    int64  \n",
      " 7   Parch        891 non-null    int64  \n",
      " 8   Ticket       891 non-null    object \n",
      " 9   Fare         891 non-null    float64\n",
      " 10  Cabin        204 non-null    object \n",
      " 11  Embarked     889 non-null    object \n",
      "dtypes: float64(2), int64(5), object(5)\n",
      "memory usage: 83.7+ KB\n"
     ]
    }
   ],
   "source": [
    "path = os.getcwd()\n",
    "train = pd.read_csv(path+'/data/train.csv')\n",
    "train.info()"
   ]
  },
  {
   "cell_type": "code",
   "execution_count": 124,
   "id": "bbaf01c9",
   "metadata": {},
   "outputs": [
    {
     "data": {
      "text/plain": [
       "PassengerId      0\n",
       "Survived         0\n",
       "Pclass           0\n",
       "Name             0\n",
       "Sex              0\n",
       "Age            177\n",
       "SibSp            0\n",
       "Parch            0\n",
       "Ticket           0\n",
       "Fare             0\n",
       "Cabin          687\n",
       "Embarked         2\n",
       "dtype: int64"
      ]
     },
     "execution_count": 124,
     "metadata": {},
     "output_type": "execute_result"
    }
   ],
   "source": [
    "train.isnull().sum() # check for missing data,  we miss some info in 'Age', 'Embarked' and a lot more in the 'Cabin' column."
   ]
  },
  {
   "cell_type": "code",
   "execution_count": 125,
   "id": "14135caf",
   "metadata": {},
   "outputs": [
    {
     "data": {
      "text/html": [
       "<div>\n",
       "<style scoped>\n",
       "    .dataframe tbody tr th:only-of-type {\n",
       "        vertical-align: middle;\n",
       "    }\n",
       "\n",
       "    .dataframe tbody tr th {\n",
       "        vertical-align: top;\n",
       "    }\n",
       "\n",
       "    .dataframe thead th {\n",
       "        text-align: right;\n",
       "    }\n",
       "</style>\n",
       "<table border=\"1\" class=\"dataframe\">\n",
       "  <thead>\n",
       "    <tr style=\"text-align: right;\">\n",
       "      <th></th>\n",
       "      <th>PassengerId</th>\n",
       "      <th>Survived</th>\n",
       "      <th>Pclass</th>\n",
       "      <th>Name</th>\n",
       "      <th>Sex</th>\n",
       "      <th>Age</th>\n",
       "      <th>SibSp</th>\n",
       "      <th>Parch</th>\n",
       "      <th>Ticket</th>\n",
       "      <th>Fare</th>\n",
       "      <th>Cabin</th>\n",
       "      <th>Embarked</th>\n",
       "    </tr>\n",
       "  </thead>\n",
       "  <tbody>\n",
       "    <tr>\n",
       "      <th>0</th>\n",
       "      <td>1</td>\n",
       "      <td>0</td>\n",
       "      <td>3</td>\n",
       "      <td>Braund, Mr. Owen Harris</td>\n",
       "      <td>male</td>\n",
       "      <td>22.0</td>\n",
       "      <td>1</td>\n",
       "      <td>0</td>\n",
       "      <td>A/5 21171</td>\n",
       "      <td>7.2500</td>\n",
       "      <td>NaN</td>\n",
       "      <td>S</td>\n",
       "    </tr>\n",
       "    <tr>\n",
       "      <th>1</th>\n",
       "      <td>2</td>\n",
       "      <td>1</td>\n",
       "      <td>1</td>\n",
       "      <td>Cumings, Mrs. John Bradley (Florence Briggs Th...</td>\n",
       "      <td>female</td>\n",
       "      <td>38.0</td>\n",
       "      <td>1</td>\n",
       "      <td>0</td>\n",
       "      <td>PC 17599</td>\n",
       "      <td>71.2833</td>\n",
       "      <td>C85</td>\n",
       "      <td>C</td>\n",
       "    </tr>\n",
       "    <tr>\n",
       "      <th>2</th>\n",
       "      <td>3</td>\n",
       "      <td>1</td>\n",
       "      <td>3</td>\n",
       "      <td>Heikkinen, Miss. Laina</td>\n",
       "      <td>female</td>\n",
       "      <td>26.0</td>\n",
       "      <td>0</td>\n",
       "      <td>0</td>\n",
       "      <td>STON/O2. 3101282</td>\n",
       "      <td>7.9250</td>\n",
       "      <td>NaN</td>\n",
       "      <td>S</td>\n",
       "    </tr>\n",
       "    <tr>\n",
       "      <th>3</th>\n",
       "      <td>4</td>\n",
       "      <td>1</td>\n",
       "      <td>1</td>\n",
       "      <td>Futrelle, Mrs. Jacques Heath (Lily May Peel)</td>\n",
       "      <td>female</td>\n",
       "      <td>35.0</td>\n",
       "      <td>1</td>\n",
       "      <td>0</td>\n",
       "      <td>113803</td>\n",
       "      <td>53.1000</td>\n",
       "      <td>C123</td>\n",
       "      <td>S</td>\n",
       "    </tr>\n",
       "    <tr>\n",
       "      <th>4</th>\n",
       "      <td>5</td>\n",
       "      <td>0</td>\n",
       "      <td>3</td>\n",
       "      <td>Allen, Mr. William Henry</td>\n",
       "      <td>male</td>\n",
       "      <td>35.0</td>\n",
       "      <td>0</td>\n",
       "      <td>0</td>\n",
       "      <td>373450</td>\n",
       "      <td>8.0500</td>\n",
       "      <td>NaN</td>\n",
       "      <td>S</td>\n",
       "    </tr>\n",
       "  </tbody>\n",
       "</table>\n",
       "</div>"
      ],
      "text/plain": [
       "   PassengerId  Survived  Pclass  \\\n",
       "0            1         0       3   \n",
       "1            2         1       1   \n",
       "2            3         1       3   \n",
       "3            4         1       1   \n",
       "4            5         0       3   \n",
       "\n",
       "                                                Name     Sex   Age  SibSp  \\\n",
       "0                            Braund, Mr. Owen Harris    male  22.0      1   \n",
       "1  Cumings, Mrs. John Bradley (Florence Briggs Th...  female  38.0      1   \n",
       "2                             Heikkinen, Miss. Laina  female  26.0      0   \n",
       "3       Futrelle, Mrs. Jacques Heath (Lily May Peel)  female  35.0      1   \n",
       "4                           Allen, Mr. William Henry    male  35.0      0   \n",
       "\n",
       "   Parch            Ticket     Fare Cabin Embarked  \n",
       "0      0         A/5 21171   7.2500   NaN        S  \n",
       "1      0          PC 17599  71.2833   C85        C  \n",
       "2      0  STON/O2. 3101282   7.9250   NaN        S  \n",
       "3      0            113803  53.1000  C123        S  \n",
       "4      0            373450   8.0500   NaN        S  "
      ]
     },
     "execution_count": 125,
     "metadata": {},
     "output_type": "execute_result"
    }
   ],
   "source": [
    "train.head()"
   ]
  },
  {
   "cell_type": "code",
   "execution_count": 126,
   "id": "3da133ef",
   "metadata": {},
   "outputs": [],
   "source": [
    "# seperate data into numerical and categorical\n",
    "\n",
    "df_num= train[['Age','SibSp','Parch','Fare']]\n",
    "df_str = train[['Survived','Pclass','Sex','Ticket','Cabin','Embarked']]"
   ]
  },
  {
   "cell_type": "code",
   "execution_count": 127,
   "id": "46e6abf8",
   "metadata": {},
   "outputs": [
    {
     "name": "stdout",
     "output_type": "stream",
     "text": [
      "            Age     SibSp     Parch      Fare\n",
      "Age    1.000000 -0.308247 -0.189119  0.096067\n",
      "SibSp -0.308247  1.000000  0.414838  0.159651\n",
      "Parch -0.189119  0.414838  1.000000  0.216225\n",
      "Fare   0.096067  0.159651  0.216225  1.000000\n"
     ]
    },
    {
     "data": {
      "text/plain": [
       "<AxesSubplot:>"
      ]
     },
     "execution_count": 127,
     "metadata": {},
     "output_type": "execute_result"
    },
    {
     "data": {
      "image/png": "[encoded data removed]",
      "text/plain": [
       "<Figure size 432x288 with 2 Axes>"
      ]
     },
     "metadata": {
      "needs_background": "light"
     },
     "output_type": "display_data"
    }
   ],
   "source": [
    "# look for correlations in the numerical data \n",
    "\n",
    "print(df_num.corr())\n",
    "sns.heatmap(df_num.corr(),annot=True)"
   ]
  },
  {
   "cell_type": "code",
   "execution_count": 128,
   "id": "76c5a8bd",
   "metadata": {},
   "outputs": [
    {
     "data": {
      "text/html": [
       "<div>\n",
       "<style scoped>\n",
       "    .dataframe tbody tr th:only-of-type {\n",
       "        vertical-align: middle;\n",
       "    }\n",
       "\n",
       "    .dataframe tbody tr th {\n",
       "        vertical-align: top;\n",
       "    }\n",
       "\n",
       "    .dataframe thead th {\n",
       "        text-align: right;\n",
       "    }\n",
       "</style>\n",
       "<table border=\"1\" class=\"dataframe\">\n",
       "  <thead>\n",
       "    <tr style=\"text-align: right;\">\n",
       "      <th></th>\n",
       "      <th>Age</th>\n",
       "      <th>Fare</th>\n",
       "      <th>Parch</th>\n",
       "      <th>SibSp</th>\n",
       "    </tr>\n",
       "    <tr>\n",
       "      <th>Survived</th>\n",
       "      <th></th>\n",
       "      <th></th>\n",
       "      <th></th>\n",
       "      <th></th>\n",
       "    </tr>\n",
       "  </thead>\n",
       "  <tbody>\n",
       "    <tr>\n",
       "      <th>0</th>\n",
       "      <td>30.626179</td>\n",
       "      <td>22.117887</td>\n",
       "      <td>0.329690</td>\n",
       "      <td>0.553734</td>\n",
       "    </tr>\n",
       "    <tr>\n",
       "      <th>1</th>\n",
       "      <td>28.343690</td>\n",
       "      <td>48.395408</td>\n",
       "      <td>0.464912</td>\n",
       "      <td>0.473684</td>\n",
       "    </tr>\n",
       "  </tbody>\n",
       "</table>\n",
       "</div>"
      ],
      "text/plain": [
       "                Age       Fare     Parch     SibSp\n",
       "Survived                                          \n",
       "0         30.626179  22.117887  0.329690  0.553734\n",
       "1         28.343690  48.395408  0.464912  0.473684"
      ]
     },
     "execution_count": 128,
     "metadata": {},
     "output_type": "execute_result"
    }
   ],
   "source": [
    "# compare survival rate across Age, SibSp, Parch, and Fare \n",
    "\n",
    "pd.pivot_table(train, index = 'Survived', values = ['Age','SibSp','Parch','Fare'])"
   ]
  },
  {
   "cell_type": "code",
   "execution_count": 129,
   "id": "7afe8e29",
   "metadata": {},
   "outputs": [
    {
     "name": "stdout",
     "output_type": "stream",
     "text": [
      "          Ticket\n",
      "Survived        \n",
      "0            549\n",
      "1            342\n"
     ]
    },
    {
     "data": {
      "text/plain": [
       "<AxesSubplot:xlabel='Survived', ylabel='count'>"
      ]
     },
     "execution_count": 129,
     "metadata": {},
     "output_type": "execute_result"
    },
    {
     "data": {
      "image/png": "[encoded data removed]",
      "text/plain": [
       "<Figure size 432x288 with 1 Axes>"
      ]
     },
     "metadata": {},
     "output_type": "display_data"
    }
   ],
   "source": [
    "# lets check the number of survivors and non survivors\n",
    "sns.set_style('whitegrid')\n",
    "print(pd.pivot_table(train, index = 'Survived', values = 'Ticket' ,aggfunc ='count'))\n",
    "sns.countplot(data=train, x='Survived') "
   ]
  },
  {
   "cell_type": "markdown",
   "id": "97237cc0",
   "metadata": {},
   "source": [
    "# Feature engineering"
   ]
  },
  {
   "cell_type": "markdown",
   "id": "fefed3a9",
   "metadata": {},
   "source": [
    "### Sex"
   ]
  },
  {
   "cell_type": "code",
   "execution_count": 130,
   "id": "937da425",
   "metadata": {},
   "outputs": [
    {
     "name": "stdout",
     "output_type": "stream",
     "text": [
      "Sex       female  male\n",
      "Survived              \n",
      "0             81   468\n",
      "1            233   109\n"
     ]
    },
    {
     "data": {
      "text/plain": [
       "<AxesSubplot:xlabel='Survived', ylabel='count'>"
      ]
     },
     "execution_count": 130,
     "metadata": {},
     "output_type": "execute_result"
    },
    {
     "data": {
      "image/png": "[encoded data removed]",
      "text/plain": [
       "<Figure size 432x288 with 1 Axes>"
      ]
     },
     "metadata": {},
     "output_type": "display_data"
    }
   ],
   "source": [
    "# lets check the number of male and female survivors and non survivors respectively \n",
    "print(pd.pivot_table(train, index = 'Survived', columns = 'Sex', values = 'Ticket' ,aggfunc ='count'))\n",
    "sns.countplot(data=train, x='Survived',hue = 'Sex')"
   ]
  },
  {
   "cell_type": "markdown",
   "id": "12328fde",
   "metadata": {},
   "source": [
    "### Pclass"
   ]
  },
  {
   "cell_type": "code",
   "execution_count": 131,
   "id": "89bc5aa1",
   "metadata": {},
   "outputs": [
    {
     "name": "stdout",
     "output_type": "stream",
     "text": [
      "Pclass      1   2    3\n",
      "Survived              \n",
      "0          80  97  372\n",
      "1         136  87  119\n"
     ]
    },
    {
     "data": {
      "text/plain": [
       "<AxesSubplot:xlabel='Survived', ylabel='count'>"
      ]
     },
     "execution_count": 131,
     "metadata": {},
     "output_type": "execute_result"
    },
    {
     "data": {
      "image/png": "[encoded data removed]",
      "text/plain": [
       "<Figure size 432x288 with 1 Axes>"
      ]
     },
     "metadata": {},
     "output_type": "display_data"
    }
   ],
   "source": [
    "# lets check the number of survivors and non survivors based on their  Ticket Class \n",
    "print(pd.pivot_table(train, index = 'Survived', columns = 'Pclass', values = 'Ticket' ,aggfunc ='count'))\n",
    "sns.countplot(data=train, x='Survived',hue = 'Pclass') "
   ]
  },
  {
   "cell_type": "code",
   "execution_count": 132,
   "id": "ee97a035",
   "metadata": {},
   "outputs": [],
   "source": [
    "def Pclass_cat(n_cla):\n",
    "    '''\n",
    "    Transform 'Pclass' column to string type\n",
    "    '''\n",
    "    if n_cla == 1:\n",
    "        return '1st'\n",
    "    elif n_cla == 2:\n",
    "        return '2nd'\n",
    "    else:\n",
    "        return '3rd'"
   ]
  },
  {
   "cell_type": "code",
   "execution_count": 133,
   "id": "f741fe98",
   "metadata": {},
   "outputs": [],
   "source": [
    "train[\"Pclass\"] = train[\"Pclass\"].apply(Pclass_cat)"
   ]
  },
  {
   "cell_type": "markdown",
   "id": "3e030509",
   "metadata": {},
   "source": [
    "### Embarked"
   ]
  },
  {
   "cell_type": "code",
   "execution_count": 134,
   "id": "0f5b1aec",
   "metadata": {},
   "outputs": [
    {
     "name": "stdout",
     "output_type": "stream",
     "text": [
      "Embarked   C   Q    S\n",
      "Survived             \n",
      "0         75  47  427\n",
      "1         93  30  217\n"
     ]
    },
    {
     "data": {
      "text/plain": [
       "<AxesSubplot:xlabel='Survived', ylabel='count'>"
      ]
     },
     "execution_count": 134,
     "metadata": {},
     "output_type": "execute_result"
    },
    {
     "data": {
      "image/png": "[encoded data removed]",
      "text/plain": [
       "<Figure size 432x288 with 1 Axes>"
      ]
     },
     "metadata": {},
     "output_type": "display_data"
    }
   ],
   "source": [
    "# lets check the number of survivors and non survivors based on their  Embarked place\n",
    "print(pd.pivot_table(train, index = 'Survived', columns = 'Embarked', values = 'Ticket' ,aggfunc ='count'))\n",
    "sns.countplot(data=train, x='Survived',hue = 'Embarked') "
   ]
  },
  {
   "cell_type": "code",
   "execution_count": 135,
   "id": "336ea281",
   "metadata": {},
   "outputs": [
    {
     "data": {
      "text/html": [
       "<div>\n",
       "<style scoped>\n",
       "    .dataframe tbody tr th:only-of-type {\n",
       "        vertical-align: middle;\n",
       "    }\n",
       "\n",
       "    .dataframe tbody tr th {\n",
       "        vertical-align: top;\n",
       "    }\n",
       "\n",
       "    .dataframe thead th {\n",
       "        text-align: right;\n",
       "    }\n",
       "</style>\n",
       "<table border=\"1\" class=\"dataframe\">\n",
       "  <thead>\n",
       "    <tr style=\"text-align: right;\">\n",
       "      <th></th>\n",
       "      <th>PassengerId</th>\n",
       "      <th>Survived</th>\n",
       "      <th>Pclass</th>\n",
       "      <th>Name</th>\n",
       "      <th>Sex</th>\n",
       "      <th>Age</th>\n",
       "      <th>SibSp</th>\n",
       "      <th>Parch</th>\n",
       "      <th>Ticket</th>\n",
       "      <th>Fare</th>\n",
       "      <th>Cabin</th>\n",
       "      <th>Embarked</th>\n",
       "    </tr>\n",
       "  </thead>\n",
       "  <tbody>\n",
       "    <tr>\n",
       "      <th>61</th>\n",
       "      <td>62</td>\n",
       "      <td>1</td>\n",
       "      <td>1st</td>\n",
       "      <td>Icard, Miss. Amelie</td>\n",
       "      <td>female</td>\n",
       "      <td>38.0</td>\n",
       "      <td>0</td>\n",
       "      <td>0</td>\n",
       "      <td>113572</td>\n",
       "      <td>80.0</td>\n",
       "      <td>B28</td>\n",
       "      <td>NaN</td>\n",
       "    </tr>\n",
       "    <tr>\n",
       "      <th>829</th>\n",
       "      <td>830</td>\n",
       "      <td>1</td>\n",
       "      <td>1st</td>\n",
       "      <td>Stone, Mrs. George Nelson (Martha Evelyn)</td>\n",
       "      <td>female</td>\n",
       "      <td>62.0</td>\n",
       "      <td>0</td>\n",
       "      <td>0</td>\n",
       "      <td>113572</td>\n",
       "      <td>80.0</td>\n",
       "      <td>B28</td>\n",
       "      <td>NaN</td>\n",
       "    </tr>\n",
       "  </tbody>\n",
       "</table>\n",
       "</div>"
      ],
      "text/plain": [
       "     PassengerId  Survived Pclass                                       Name  \\\n",
       "61            62         1    1st                        Icard, Miss. Amelie   \n",
       "829          830         1    1st  Stone, Mrs. George Nelson (Martha Evelyn)   \n",
       "\n",
       "        Sex   Age  SibSp  Parch  Ticket  Fare Cabin Embarked  \n",
       "61   female  38.0      0      0  113572  80.0   B28      NaN  \n",
       "829  female  62.0      0      0  113572  80.0   B28      NaN  "
      ]
     },
     "execution_count": 135,
     "metadata": {},
     "output_type": "execute_result"
    }
   ],
   "source": [
    "# We miss some data associated with the Embarked place of some passengers, we will try to impute that missing data based on a reasonable guess \n",
    "train[train['Embarked'].isnull()]  # both of them were in the 1st class and their Fare prices were both 80"
   ]
  },
  {
   "cell_type": "code",
   "execution_count": 136,
   "id": "3e4d24d7",
   "metadata": {},
   "outputs": [
    {
     "data": {
      "text/html": [
       "<div>\n",
       "<style scoped>\n",
       "    .dataframe tbody tr th:only-of-type {\n",
       "        vertical-align: middle;\n",
       "    }\n",
       "\n",
       "    .dataframe tbody tr th {\n",
       "        vertical-align: top;\n",
       "    }\n",
       "\n",
       "    .dataframe thead th {\n",
       "        text-align: right;\n",
       "    }\n",
       "</style>\n",
       "<table border=\"1\" class=\"dataframe\">\n",
       "  <thead>\n",
       "    <tr style=\"text-align: right;\">\n",
       "      <th></th>\n",
       "      <th></th>\n",
       "      <th>PassengerId</th>\n",
       "      <th>Survived</th>\n",
       "      <th>Age</th>\n",
       "      <th>SibSp</th>\n",
       "      <th>Parch</th>\n",
       "      <th>Fare</th>\n",
       "    </tr>\n",
       "    <tr>\n",
       "      <th>Pclass</th>\n",
       "      <th>Embarked</th>\n",
       "      <th></th>\n",
       "      <th></th>\n",
       "      <th></th>\n",
       "      <th></th>\n",
       "      <th></th>\n",
       "      <th></th>\n",
       "    </tr>\n",
       "  </thead>\n",
       "  <tbody>\n",
       "    <tr>\n",
       "      <th rowspan=\"3\" valign=\"top\">1st</th>\n",
       "      <th>C</th>\n",
       "      <td>453.0</td>\n",
       "      <td>1.0</td>\n",
       "      <td>36.5</td>\n",
       "      <td>0.0</td>\n",
       "      <td>0.0</td>\n",
       "      <td>78.2667</td>\n",
       "    </tr>\n",
       "    <tr>\n",
       "      <th>Q</th>\n",
       "      <td>329.5</td>\n",
       "      <td>0.5</td>\n",
       "      <td>38.5</td>\n",
       "      <td>1.5</td>\n",
       "      <td>0.0</td>\n",
       "      <td>90.0000</td>\n",
       "    </tr>\n",
       "    <tr>\n",
       "      <th>S</th>\n",
       "      <td>493.0</td>\n",
       "      <td>1.0</td>\n",
       "      <td>37.0</td>\n",
       "      <td>0.0</td>\n",
       "      <td>0.0</td>\n",
       "      <td>52.0000</td>\n",
       "    </tr>\n",
       "    <tr>\n",
       "      <th rowspan=\"3\" valign=\"top\">2nd</th>\n",
       "      <th>C</th>\n",
       "      <td>390.0</td>\n",
       "      <td>1.0</td>\n",
       "      <td>25.0</td>\n",
       "      <td>1.0</td>\n",
       "      <td>0.0</td>\n",
       "      <td>24.0000</td>\n",
       "    </tr>\n",
       "    <tr>\n",
       "      <th>Q</th>\n",
       "      <td>323.0</td>\n",
       "      <td>1.0</td>\n",
       "      <td>43.5</td>\n",
       "      <td>0.0</td>\n",
       "      <td>0.0</td>\n",
       "      <td>12.3500</td>\n",
       "    </tr>\n",
       "    <tr>\n",
       "      <th>S</th>\n",
       "      <td>439.0</td>\n",
       "      <td>0.0</td>\n",
       "      <td>30.0</td>\n",
       "      <td>0.0</td>\n",
       "      <td>0.0</td>\n",
       "      <td>13.5000</td>\n",
       "    </tr>\n",
       "    <tr>\n",
       "      <th rowspan=\"3\" valign=\"top\">3rd</th>\n",
       "      <th>C</th>\n",
       "      <td>483.0</td>\n",
       "      <td>0.0</td>\n",
       "      <td>20.0</td>\n",
       "      <td>0.0</td>\n",
       "      <td>0.0</td>\n",
       "      <td>7.8958</td>\n",
       "    </tr>\n",
       "    <tr>\n",
       "      <th>Q</th>\n",
       "      <td>400.5</td>\n",
       "      <td>0.0</td>\n",
       "      <td>21.5</td>\n",
       "      <td>0.0</td>\n",
       "      <td>0.0</td>\n",
       "      <td>7.7500</td>\n",
       "    </tr>\n",
       "    <tr>\n",
       "      <th>S</th>\n",
       "      <td>432.0</td>\n",
       "      <td>0.0</td>\n",
       "      <td>25.0</td>\n",
       "      <td>0.0</td>\n",
       "      <td>0.0</td>\n",
       "      <td>8.0500</td>\n",
       "    </tr>\n",
       "  </tbody>\n",
       "</table>\n",
       "</div>"
      ],
      "text/plain": [
       "                 PassengerId  Survived   Age  SibSp  Parch     Fare\n",
       "Pclass Embarked                                                    \n",
       "1st    C               453.0       1.0  36.5    0.0    0.0  78.2667\n",
       "       Q               329.5       0.5  38.5    1.5    0.0  90.0000\n",
       "       S               493.0       1.0  37.0    0.0    0.0  52.0000\n",
       "2nd    C               390.0       1.0  25.0    1.0    0.0  24.0000\n",
       "       Q               323.0       1.0  43.5    0.0    0.0  12.3500\n",
       "       S               439.0       0.0  30.0    0.0    0.0  13.5000\n",
       "3rd    C               483.0       0.0  20.0    0.0    0.0   7.8958\n",
       "       Q               400.5       0.0  21.5    0.0    0.0   7.7500\n",
       "       S               432.0       0.0  25.0    0.0    0.0   8.0500"
      ]
     },
     "execution_count": 136,
     "metadata": {},
     "output_type": "execute_result"
    }
   ],
   "source": [
    "#Then, show the table of median Fare values sliced by Pclass and Embarked again:\n",
    "train.groupby([train['Pclass'],train['Embarked']]).median()"
   ]
  },
  {
   "cell_type": "code",
   "execution_count": 137,
   "id": "b1aec7d1",
   "metadata": {},
   "outputs": [],
   "source": [
    "# Based on the Pclass and the Sex we impute 'Embarked' with reasonable guesses\n",
    "train.loc[61, 'Embarked'] = 'C'\n",
    "train.loc[829, 'Embarked'] = 'C'"
   ]
  },
  {
   "cell_type": "markdown",
   "id": "c74be5c3",
   "metadata": {},
   "source": [
    "**Based on the result, the median Fare price of passengers Embarked on C and were in the 1st class is 76.7, which is quite similar to 80. Therefore, it’s safe to fill in the missing value of Embarked information as “C”**"
   ]
  },
  {
   "cell_type": "markdown",
   "id": "c900c569",
   "metadata": {},
   "source": [
    "### Age"
   ]
  },
  {
   "cell_type": "code",
   "execution_count": 138,
   "id": "239d7e80",
   "metadata": {},
   "outputs": [
    {
     "data": {
      "text/plain": [
       "<AxesSubplot:xlabel='Pclass', ylabel='Age'>"
      ]
     },
     "execution_count": 138,
     "metadata": {},
     "output_type": "execute_result"
    },
    {
     "data": {
      "image/png": "[encoded data removed]",
      "text/plain": [
       "<Figure size 720x504 with 1 Axes>"
      ]
     },
     "metadata": {},
     "output_type": "display_data"
    }
   ],
   "source": [
    "# We miss some data associated with the Age of some passengers, we will try to impute that missing data based on a reasonable guess\n",
    "\n",
    "plt.figure(figsize=(10,7))\n",
    "sns.boxplot(x='Pclass', y='Age', data=train, order=['1st','2nd','3rd'])"
   ]
  },
  {
   "cell_type": "code",
   "execution_count": 139,
   "id": "d164e598",
   "metadata": {},
   "outputs": [
    {
     "data": {
      "text/plain": [
       "<seaborn.axisgrid.FacetGrid at 0x7f44634aa730>"
      ]
     },
     "execution_count": 139,
     "metadata": {},
     "output_type": "execute_result"
    },
    {
     "data": {
      "image/png": "[encoded data removed]",
      "text/plain": [
       "<Figure size 360x360 with 1 Axes>"
      ]
     },
     "metadata": {},
     "output_type": "display_data"
    }
   ],
   "source": [
    "# lets check the Age of the passengers for whom we have info\n",
    "sns.displot(data=train.dropna(), x='Age')"
   ]
  },
  {
   "cell_type": "code",
   "execution_count": 140,
   "id": "902b69cb",
   "metadata": {},
   "outputs": [],
   "source": [
    "def impute_age(cols):\n",
    "    '''\n",
    "    It seems like a good approach to impute the Age based on the passenger class. For example older people may had more time to accumulate wealth and \n",
    "    be in the first class etc.\n",
    "    '''\n",
    "    Age = cols[0]\n",
    "    Pclass = cols[1]\n",
    "    if pd.isnull(Age):\n",
    "        if Pclass == 1:\n",
    "            return 38\n",
    "        elif Pclass == 2:\n",
    "            return 30\n",
    "        else:\n",
    "            return 25\n",
    "    else:\n",
    "        return Age\n",
    "\n",
    "def AgeGroup(age):\n",
    "    '''\n",
    "    We decide to seperate the passengers into 4 Age Groups\n",
    "    '''\n",
    "    if age <= 10:\n",
    "        return 'Kid'\n",
    "    elif age <= 20:\n",
    "        return 'Adolescent'\n",
    "    elif age <= 50:\n",
    "        return 'Adult'\n",
    "    else:\n",
    "        return 'Old'"
   ]
  },
  {
   "cell_type": "code",
   "execution_count": 141,
   "id": "df3f3079",
   "metadata": {},
   "outputs": [
    {
     "data": {
      "text/plain": [
       "PassengerId      0\n",
       "Survived         0\n",
       "Pclass           0\n",
       "Name             0\n",
       "Sex              0\n",
       "Age              0\n",
       "SibSp            0\n",
       "Parch            0\n",
       "Ticket           0\n",
       "Fare             0\n",
       "Cabin          687\n",
       "Embarked         0\n",
       "dtype: int64"
      ]
     },
     "execution_count": 141,
     "metadata": {},
     "output_type": "execute_result"
    }
   ],
   "source": [
    "train['Age'] = train[['Age','Pclass']].apply(impute_age, axis=1) # filled 'Age' column with reasonable guesses \n",
    "train.isnull().sum() # filled 'Age' column with reasonable guesses\n"
   ]
  },
  {
   "cell_type": "code",
   "execution_count": 142,
   "id": "c0c39466",
   "metadata": {},
   "outputs": [
    {
     "name": "stdout",
     "output_type": "stream",
     "text": [
      "AgeGroup  Adolescent  Adult  Kid  Old\n",
      "Survived                             \n",
      "0                 71    410   26   42\n",
      "1                 44    238   38   22\n"
     ]
    },
    {
     "data": {
      "text/plain": [
       "<AxesSubplot:xlabel='Survived', ylabel='count'>"
      ]
     },
     "execution_count": 142,
     "metadata": {},
     "output_type": "execute_result"
    },
    {
     "data": {
      "image/png": "[encoded data removed]",
      "text/plain": [
       "<Figure size 1440x1008 with 1 Axes>"
      ]
     },
     "metadata": {},
     "output_type": "display_data"
    }
   ],
   "source": [
    "train['AgeGroup'] = train['Age'].apply(AgeGroup)\n",
    "\n",
    "# lets check the number of survivors and non survivors based on their  AgeGroup \n",
    "print(pd.pivot_table(train, index = 'Survived', columns = 'AgeGroup', values = 'Ticket' ,aggfunc ='count'))\n",
    "hue_order = ['Kid','Adolescent', 'Adult', 'Old']\n",
    "plt.figure(figsize=(20,14))\n",
    "sns.countplot(data=train, x='Survived', hue = 'AgeGroup', hue_order =hue_order ) "
   ]
  },
  {
   "cell_type": "code",
   "execution_count": 143,
   "id": "01fb54e7",
   "metadata": {},
   "outputs": [],
   "source": [
    "# We now drop the columns that we used \n",
    "train.drop('Age', axis= 1, inplace=True)"
   ]
  },
  {
   "cell_type": "markdown",
   "id": "3f120684",
   "metadata": {},
   "source": [
    "### SibSp and Parch"
   ]
  },
  {
   "cell_type": "code",
   "execution_count": 144,
   "id": "a2eb15a4",
   "metadata": {},
   "outputs": [],
   "source": [
    "def FamilySize(cols):\n",
    "    '''\n",
    "    We decide to count the number of family members and categorize the family size in three categories\n",
    "    '''\n",
    "    size = cols[0]+cols[1]\n",
    "    if size < 1:\n",
    "        return 'Alone'\n",
    "    elif size <= 4:\n",
    "        return 'Medium'\n",
    "    else:\n",
    "        return 'Large'"
   ]
  },
  {
   "cell_type": "code",
   "execution_count": 145,
   "id": "c53a9e9a",
   "metadata": {},
   "outputs": [
    {
     "name": "stdout",
     "output_type": "stream",
     "text": [
      "FamilySize  Alone  Large  Medium\n",
      "Survived                        \n",
      "0             374     40     135\n",
      "1             163      7     172\n"
     ]
    },
    {
     "data": {
      "text/plain": [
       "<matplotlib.legend.Legend at 0x7f446326cdf0>"
      ]
     },
     "execution_count": 145,
     "metadata": {},
     "output_type": "execute_result"
    },
    {
     "data": {
      "image/png": "[encoded data removed]",
      "text/plain": [
       "<Figure size 720x576 with 1 Axes>"
      ]
     },
     "metadata": {},
     "output_type": "display_data"
    }
   ],
   "source": [
    "# Family members\n",
    "train['FamilySize'] = train[['SibSp','Parch']].apply(FamilySize, axis=1)\n",
    "\n",
    "# lets check the number of survivors and non survivors\n",
    "plt.figure(figsize=(10,8))\n",
    "print(pd.pivot_table(train, index = 'Survived', columns = 'FamilySize', values = 'Ticket' ,aggfunc ='count'))\n",
    "hue_order = ['Alone','Medium','Large']\n",
    "sns.countplot(data=train, x='Survived',hue = 'FamilySize', hue_order = hue_order) \n",
    "plt.legend(loc='upper right')"
   ]
  },
  {
   "cell_type": "code",
   "execution_count": 146,
   "id": "d353d518",
   "metadata": {},
   "outputs": [],
   "source": [
    "# We now drop the columns that we used \n",
    "train.drop(['SibSp','Parch'], axis=1, inplace=True)"
   ]
  },
  {
   "cell_type": "markdown",
   "id": "3cd330c1",
   "metadata": {},
   "source": [
    "### Ticket"
   ]
  },
  {
   "cell_type": "code",
   "execution_count": 147,
   "id": "50545247",
   "metadata": {},
   "outputs": [
    {
     "data": {
      "text/plain": [
       "CA. 2343    7\n",
       "1601        7\n",
       "347082      7\n",
       "CA 2144     6\n",
       "3101295     6\n",
       "           ..\n",
       "243880      1\n",
       "250646      1\n",
       "4135        1\n",
       "17764       1\n",
       "223596      1\n",
       "Name: Ticket, Length: 681, dtype: int64"
      ]
     },
     "execution_count": 147,
     "metadata": {},
     "output_type": "execute_result"
    }
   ],
   "source": [
    "train['Ticket'].value_counts()"
   ]
  },
  {
   "cell_type": "code",
   "execution_count": 148,
   "id": "897819fe",
   "metadata": {},
   "outputs": [
    {
     "name": "stdout",
     "output_type": "stream",
     "text": [
      "Numeric_Tickets  False  True \n",
      "Survived                     \n",
      "0                  142    407\n",
      "1                   88    254\n"
     ]
    },
    {
     "data": {
      "text/plain": [
       "<AxesSubplot:xlabel='Survived', ylabel='count'>"
      ]
     },
     "execution_count": 148,
     "metadata": {},
     "output_type": "execute_result"
    },
    {
     "data": {
      "image/png": "[encoded data removed]",
      "text/plain": [
       "<Figure size 432x288 with 1 Axes>"
      ]
     },
     "metadata": {},
     "output_type": "display_data"
    }
   ],
   "source": [
    "# Some tickets have only numbers, while other tickets contain also letters. Lets try to find motifs based on theat difference\n",
    "train['Numeric_Tickets'] = train['Ticket'].apply(lambda x: True if x[0].isnumeric()==True else False)\n",
    "\n",
    "# lets check the number of survivors and non survivors\n",
    "print(pd.pivot_table(train, index = 'Survived', columns = 'Numeric_Tickets', values = 'Ticket' ,aggfunc ='count'))\n",
    "sns.countplot(data=train, x='Survived',hue = 'Numeric_Tickets') "
   ]
  },
  {
   "cell_type": "markdown",
   "id": "5c573885",
   "metadata": {},
   "source": [
    "**It does not seem to be any difference between tickets where the first character is a number or not, but we can can explore if there is \n",
    "something interesting depending on the specific number or the specific letter**"
   ]
  },
  {
   "cell_type": "code",
   "execution_count": 149,
   "id": "5aec2db2",
   "metadata": {},
   "outputs": [],
   "source": [
    "# Maybe the first letter/number of the Ticket can give us some info\n",
    "\n",
    "first_num = []\n",
    "first_letter = []\n",
    "first_num_2 = []\n",
    "for i in train['Ticket'].values:\n",
    "    if i[0].isnumeric(): \n",
    "        first_num.append(i[0])\n",
    "    else: \n",
    "        first_letter.append(i[0])\n",
    "        first_num_2.append(i.split()[-1][0])"
   ]
  },
  {
   "cell_type": "code",
   "execution_count": 150,
   "id": "6fbdcce8",
   "metadata": {},
   "outputs": [
    {
     "name": "stdout",
     "output_type": "stream",
     "text": [
      "(array(['1', '2', '3', '4', '5', '6', '7', '8', '9'], dtype='<U1'), array([146, 183, 301,  10,   3,   6,   9,   2,   1]))\n",
      "(array(['A', 'C', 'F', 'L', 'P', 'S', 'W'], dtype='<U1'), array([29, 47,  7,  4, 65, 65, 13]))\n"
     ]
    }
   ],
   "source": [
    "print(np.unique(first_num,return_counts=True))\n",
    "print(np.unique(first_letter,return_counts=True))\n",
    "\n",
    "train['Ticket_first_char'] = train['Ticket'].apply(lambda x: x[0])\n"
   ]
  },
  {
   "cell_type": "code",
   "execution_count": 151,
   "id": "0e628e5f",
   "metadata": {},
   "outputs": [
    {
     "name": "stdout",
     "output_type": "stream",
     "text": [
      "Ticket_first_char     1     2      3    4    5    6    7    8    9\n",
      "Survived                                                          \n",
      "0                  54.0  98.0  229.0  8.0  3.0  5.0  8.0  2.0  NaN\n",
      "1                  92.0  85.0   72.0  2.0  NaN  1.0  1.0  NaN  1.0\n"
     ]
    },
    {
     "data": {
      "text/plain": [
       "<AxesSubplot:xlabel='Survived', ylabel='count'>"
      ]
     },
     "execution_count": 151,
     "metadata": {},
     "output_type": "execute_result"
    },
    {
     "data": {
      "image/png": "[encoded data removed]",
      "text/plain": [
       "<Figure size 1440x1152 with 1 Axes>"
      ]
     },
     "metadata": {},
     "output_type": "display_data"
    }
   ],
   "source": [
    "numeric = train[train['Ticket'].apply(lambda x: x[0].isnumeric())]\n",
    "print(pd.pivot_table(numeric, index = 'Survived', columns = 'Ticket_first_char', values = 'Ticket' ,aggfunc ='count'))\n",
    "hue_order = sorted(numeric['Ticket_first_char'].value_counts().index)\n",
    "plt.figure(figsize=(20,16))\n",
    "sns.countplot(data=numeric, x='Survived',hue = 'Ticket_first_char',hue_order=hue_order,palette='colorblind') "
   ]
  },
  {
   "cell_type": "markdown",
   "id": "f9937b15",
   "metadata": {},
   "source": [
    "**We can clearly see some patterns here eg people where the first number on their ticket was 1 where more likely to survive\n",
    "than people where the first number on their ticket was 3. Maybe the first number indicates the position of the passenger on the ship etc.**"
   ]
  },
  {
   "cell_type": "code",
   "execution_count": 152,
   "id": "e00bd475",
   "metadata": {},
   "outputs": [
    {
     "name": "stdout",
     "output_type": "stream",
     "text": [
      "Ticket_first_char   A   C  F  L   P   S   W\n",
      "Survived                                   \n",
      "0                  27  31  3  3  23  44  11\n",
      "1                   2  16  4  1  42  21   2\n"
     ]
    },
    {
     "data": {
      "text/plain": [
       "<AxesSubplot:xlabel='Survived', ylabel='count'>"
      ]
     },
     "execution_count": 152,
     "metadata": {},
     "output_type": "execute_result"
    },
    {
     "data": {
      "image/png": "[encoded data removed]",
      "text/plain": [
       "<Figure size 1440x1152 with 1 Axes>"
      ]
     },
     "metadata": {},
     "output_type": "display_data"
    }
   ],
   "source": [
    "letter = train[train['Ticket'].apply(lambda x: x[0].isnumeric())== False]\n",
    "print(pd.pivot_table(letter, index = 'Survived', columns = 'Ticket_first_char', values = 'Ticket' ,aggfunc ='count'))\n",
    "hue_order = sorted(letter['Ticket_first_char'].value_counts().index)\n",
    "plt.figure(figsize=(20,16))\n",
    "sns.countplot(data=letter, x='Survived',hue = 'Ticket_first_char',hue_order=hue_order,palette='colorblind')"
   ]
  },
  {
   "cell_type": "markdown",
   "id": "aafd8dcb",
   "metadata": {},
   "source": [
    "**We can clearly see some patterns here eg people where the first letter on their ticket was P where more likely to survive\n",
    "than people where the first letter on their ticket was A. It is also interesting to notice that most people where the first \n",
    "letter on their ticket was P had also number 1 as the first number on the numerical part of the ticket name. On the other hand\n",
    "most people where the first letter on their ticket was A had not  number 1 as the first number on the numerical part of the ticket name.\n",
    "Maybe the letter is associated just with a cabin, while the first number still indicates the position of the passenger on the ship, thus we gonna\n",
    "use this numbers to our model.**"
   ]
  },
  {
   "cell_type": "code",
   "execution_count": 153,
   "id": "7fad8a4a",
   "metadata": {},
   "outputs": [],
   "source": [
    "train['Ticket_first_char'] = train['Ticket'].apply(lambda x: x[0] if x[0].isnumeric() else x.split()[-1][0])\n",
    "\n",
    "# four passengers did not paid a fare and their ticket says 'LINE', we decide to give them 0\n",
    "train['Ticket_first_char'] = train['Ticket_first_char'].apply(lambda x: '0' if x=='L' else x) \n",
    "\n",
    "# We now drop the columns that we used \n",
    "train.drop(['Ticket','Numeric_Tickets'], axis=1, inplace=True)"
   ]
  },
  {
   "cell_type": "markdown",
   "id": "f236aeda",
   "metadata": {},
   "source": [
    "### Name"
   ]
  },
  {
   "cell_type": "code",
   "execution_count": 154,
   "id": "1741860d",
   "metadata": {},
   "outputs": [
    {
     "name": "stdout",
     "output_type": "stream",
     "text": [
      "Mr              517\n",
      "Miss            182\n",
      "Mrs             125\n",
      "Master           40\n",
      "Dr                7\n",
      "Rev               6\n",
      "Col               2\n",
      "Mlle              2\n",
      "Major             2\n",
      "Sir               1\n",
      "Jonkheer          1\n",
      "Ms                1\n",
      "Don               1\n",
      "Lady              1\n",
      "Mme               1\n",
      "Capt              1\n",
      "the Countess      1\n",
      "Name: Salutation, dtype: int64\n"
     ]
    },
    {
     "data": {
      "text/plain": [
       "<AxesSubplot:>"
      ]
     },
     "execution_count": 154,
     "metadata": {},
     "output_type": "execute_result"
    },
    {
     "data": {
      "image/png": "[encoded data removed]",
      "text/plain": [
       "<Figure size 1440x504 with 1 Axes>"
      ]
     },
     "metadata": {},
     "output_type": "display_data"
    }
   ],
   "source": [
    "# It is interesting to to use the Name column and try to find some info eg based on the titles prefixing a person's name\n",
    "\n",
    "train[\"Salutation\"] = train['Name'].apply(lambda x: x.strip().split('.'))\n",
    "train[\"Salutation\"] = train[\"Salutation\"].apply(lambda x: x[0].split(','))\n",
    "train[\"Salutation\"] = train[\"Salutation\"].apply(lambda x: x[1])\n",
    "train[\"Salutation\"] = train[\"Salutation\"].apply(lambda x: x.strip())\n",
    "print(train[\"Salutation\"].value_counts())\n",
    "train[\"Salutation\"].hist(figsize=(20,7),bins=50)"
   ]
  },
  {
   "cell_type": "code",
   "execution_count": 155,
   "id": "2d6ce7ad",
   "metadata": {},
   "outputs": [
    {
     "name": "stdout",
     "output_type": "stream",
     "text": [
      "Salutation  Capt  Col  Don   Dr  Jonkheer  Lady  Major  Mlle  Mme   Ms  Rev  \\\n",
      "Survived                                                                      \n",
      "0            1.0  1.0  1.0  4.0       1.0   NaN    1.0   NaN  NaN  NaN  6.0   \n",
      "1            NaN  1.0  NaN  3.0       NaN   1.0    1.0   2.0  1.0  1.0  NaN   \n",
      "\n",
      "Salutation  Sir  the Countess  \n",
      "Survived                       \n",
      "0           NaN           NaN  \n",
      "1           1.0           1.0  \n"
     ]
    }
   ],
   "source": [
    "# We decided to replace the prefix of some passengers and keep only the 4 most common \n",
    "\n",
    "import_people = train[train[\"Salutation\"].apply(lambda prefix: prefix not in ['Mr', 'Mrs', 'Miss', 'Master'])]\n",
    "print(pd.pivot_table(import_people, index = 'Survived', columns = 'Salutation', values = 'Sex' ,aggfunc ='count'))"
   ]
  },
  {
   "cell_type": "code",
   "execution_count": 156,
   "id": "3a95f5a4",
   "metadata": {},
   "outputs": [
    {
     "data": {
      "text/html": [
       "<div>\n",
       "<style scoped>\n",
       "    .dataframe tbody tr th:only-of-type {\n",
       "        vertical-align: middle;\n",
       "    }\n",
       "\n",
       "    .dataframe tbody tr th {\n",
       "        vertical-align: top;\n",
       "    }\n",
       "\n",
       "    .dataframe thead th {\n",
       "        text-align: right;\n",
       "    }\n",
       "</style>\n",
       "<table border=\"1\" class=\"dataframe\">\n",
       "  <thead>\n",
       "    <tr style=\"text-align: right;\">\n",
       "      <th></th>\n",
       "      <th></th>\n",
       "      <th>PassengerId</th>\n",
       "      <th>Survived</th>\n",
       "      <th>Pclass</th>\n",
       "      <th>Name</th>\n",
       "      <th>Fare</th>\n",
       "      <th>Cabin</th>\n",
       "      <th>Embarked</th>\n",
       "      <th>AgeGroup</th>\n",
       "      <th>FamilySize</th>\n",
       "      <th>Ticket_first_char</th>\n",
       "    </tr>\n",
       "    <tr>\n",
       "      <th>Salutation</th>\n",
       "      <th>Sex</th>\n",
       "      <th></th>\n",
       "      <th></th>\n",
       "      <th></th>\n",
       "      <th></th>\n",
       "      <th></th>\n",
       "      <th></th>\n",
       "      <th></th>\n",
       "      <th></th>\n",
       "      <th></th>\n",
       "      <th></th>\n",
       "    </tr>\n",
       "  </thead>\n",
       "  <tbody>\n",
       "    <tr>\n",
       "      <th>Capt</th>\n",
       "      <th>male</th>\n",
       "      <td>1</td>\n",
       "      <td>1</td>\n",
       "      <td>1</td>\n",
       "      <td>1</td>\n",
       "      <td>1</td>\n",
       "      <td>1</td>\n",
       "      <td>1</td>\n",
       "      <td>1</td>\n",
       "      <td>1</td>\n",
       "      <td>1</td>\n",
       "    </tr>\n",
       "    <tr>\n",
       "      <th>Col</th>\n",
       "      <th>male</th>\n",
       "      <td>2</td>\n",
       "      <td>2</td>\n",
       "      <td>2</td>\n",
       "      <td>2</td>\n",
       "      <td>2</td>\n",
       "      <td>1</td>\n",
       "      <td>2</td>\n",
       "      <td>2</td>\n",
       "      <td>2</td>\n",
       "      <td>2</td>\n",
       "    </tr>\n",
       "    <tr>\n",
       "      <th>Don</th>\n",
       "      <th>male</th>\n",
       "      <td>1</td>\n",
       "      <td>1</td>\n",
       "      <td>1</td>\n",
       "      <td>1</td>\n",
       "      <td>1</td>\n",
       "      <td>0</td>\n",
       "      <td>1</td>\n",
       "      <td>1</td>\n",
       "      <td>1</td>\n",
       "      <td>1</td>\n",
       "    </tr>\n",
       "    <tr>\n",
       "      <th rowspan=\"2\" valign=\"top\">Dr</th>\n",
       "      <th>female</th>\n",
       "      <td>1</td>\n",
       "      <td>1</td>\n",
       "      <td>1</td>\n",
       "      <td>1</td>\n",
       "      <td>1</td>\n",
       "      <td>1</td>\n",
       "      <td>1</td>\n",
       "      <td>1</td>\n",
       "      <td>1</td>\n",
       "      <td>1</td>\n",
       "    </tr>\n",
       "    <tr>\n",
       "      <th>male</th>\n",
       "      <td>6</td>\n",
       "      <td>6</td>\n",
       "      <td>6</td>\n",
       "      <td>6</td>\n",
       "      <td>6</td>\n",
       "      <td>2</td>\n",
       "      <td>6</td>\n",
       "      <td>6</td>\n",
       "      <td>6</td>\n",
       "      <td>6</td>\n",
       "    </tr>\n",
       "    <tr>\n",
       "      <th>Jonkheer</th>\n",
       "      <th>male</th>\n",
       "      <td>1</td>\n",
       "      <td>1</td>\n",
       "      <td>1</td>\n",
       "      <td>1</td>\n",
       "      <td>1</td>\n",
       "      <td>0</td>\n",
       "      <td>1</td>\n",
       "      <td>1</td>\n",
       "      <td>1</td>\n",
       "      <td>1</td>\n",
       "    </tr>\n",
       "    <tr>\n",
       "      <th>Lady</th>\n",
       "      <th>female</th>\n",
       "      <td>1</td>\n",
       "      <td>1</td>\n",
       "      <td>1</td>\n",
       "      <td>1</td>\n",
       "      <td>1</td>\n",
       "      <td>1</td>\n",
       "      <td>1</td>\n",
       "      <td>1</td>\n",
       "      <td>1</td>\n",
       "      <td>1</td>\n",
       "    </tr>\n",
       "    <tr>\n",
       "      <th>Major</th>\n",
       "      <th>male</th>\n",
       "      <td>2</td>\n",
       "      <td>2</td>\n",
       "      <td>2</td>\n",
       "      <td>2</td>\n",
       "      <td>2</td>\n",
       "      <td>2</td>\n",
       "      <td>2</td>\n",
       "      <td>2</td>\n",
       "      <td>2</td>\n",
       "      <td>2</td>\n",
       "    </tr>\n",
       "    <tr>\n",
       "      <th>Mlle</th>\n",
       "      <th>female</th>\n",
       "      <td>2</td>\n",
       "      <td>2</td>\n",
       "      <td>2</td>\n",
       "      <td>2</td>\n",
       "      <td>2</td>\n",
       "      <td>2</td>\n",
       "      <td>2</td>\n",
       "      <td>2</td>\n",
       "      <td>2</td>\n",
       "      <td>2</td>\n",
       "    </tr>\n",
       "    <tr>\n",
       "      <th>Mme</th>\n",
       "      <th>female</th>\n",
       "      <td>1</td>\n",
       "      <td>1</td>\n",
       "      <td>1</td>\n",
       "      <td>1</td>\n",
       "      <td>1</td>\n",
       "      <td>1</td>\n",
       "      <td>1</td>\n",
       "      <td>1</td>\n",
       "      <td>1</td>\n",
       "      <td>1</td>\n",
       "    </tr>\n",
       "    <tr>\n",
       "      <th>Ms</th>\n",
       "      <th>female</th>\n",
       "      <td>1</td>\n",
       "      <td>1</td>\n",
       "      <td>1</td>\n",
       "      <td>1</td>\n",
       "      <td>1</td>\n",
       "      <td>0</td>\n",
       "      <td>1</td>\n",
       "      <td>1</td>\n",
       "      <td>1</td>\n",
       "      <td>1</td>\n",
       "    </tr>\n",
       "    <tr>\n",
       "      <th>Rev</th>\n",
       "      <th>male</th>\n",
       "      <td>6</td>\n",
       "      <td>6</td>\n",
       "      <td>6</td>\n",
       "      <td>6</td>\n",
       "      <td>6</td>\n",
       "      <td>0</td>\n",
       "      <td>6</td>\n",
       "      <td>6</td>\n",
       "      <td>6</td>\n",
       "      <td>6</td>\n",
       "    </tr>\n",
       "    <tr>\n",
       "      <th>Sir</th>\n",
       "      <th>male</th>\n",
       "      <td>1</td>\n",
       "      <td>1</td>\n",
       "      <td>1</td>\n",
       "      <td>1</td>\n",
       "      <td>1</td>\n",
       "      <td>1</td>\n",
       "      <td>1</td>\n",
       "      <td>1</td>\n",
       "      <td>1</td>\n",
       "      <td>1</td>\n",
       "    </tr>\n",
       "    <tr>\n",
       "      <th>the Countess</th>\n",
       "      <th>female</th>\n",
       "      <td>1</td>\n",
       "      <td>1</td>\n",
       "      <td>1</td>\n",
       "      <td>1</td>\n",
       "      <td>1</td>\n",
       "      <td>1</td>\n",
       "      <td>1</td>\n",
       "      <td>1</td>\n",
       "      <td>1</td>\n",
       "      <td>1</td>\n",
       "    </tr>\n",
       "  </tbody>\n",
       "</table>\n",
       "</div>"
      ],
      "text/plain": [
       "                     PassengerId  Survived  Pclass  Name  Fare  Cabin  \\\n",
       "Salutation   Sex                                                        \n",
       "Capt         male              1         1       1     1     1      1   \n",
       "Col          male              2         2       2     2     2      1   \n",
       "Don          male              1         1       1     1     1      0   \n",
       "Dr           female            1         1       1     1     1      1   \n",
       "             male              6         6       6     6     6      2   \n",
       "Jonkheer     male              1         1       1     1     1      0   \n",
       "Lady         female            1         1       1     1     1      1   \n",
       "Major        male              2         2       2     2     2      2   \n",
       "Mlle         female            2         2       2     2     2      2   \n",
       "Mme          female            1         1       1     1     1      1   \n",
       "Ms           female            1         1       1     1     1      0   \n",
       "Rev          male              6         6       6     6     6      0   \n",
       "Sir          male              1         1       1     1     1      1   \n",
       "the Countess female            1         1       1     1     1      1   \n",
       "\n",
       "                     Embarked  AgeGroup  FamilySize  Ticket_first_char  \n",
       "Salutation   Sex                                                        \n",
       "Capt         male           1         1           1                  1  \n",
       "Col          male           2         2           2                  2  \n",
       "Don          male           1         1           1                  1  \n",
       "Dr           female         1         1           1                  1  \n",
       "             male           6         6           6                  6  \n",
       "Jonkheer     male           1         1           1                  1  \n",
       "Lady         female         1         1           1                  1  \n",
       "Major        male           2         2           2                  2  \n",
       "Mlle         female         2         2           2                  2  \n",
       "Mme          female         1         1           1                  1  \n",
       "Ms           female         1         1           1                  1  \n",
       "Rev          male           6         6           6                  6  \n",
       "Sir          male           1         1           1                  1  \n",
       "the Countess female         1         1           1                  1  "
      ]
     },
     "execution_count": 156,
     "metadata": {},
     "output_type": "execute_result"
    }
   ],
   "source": [
    "# We to be carefull because some prefixes may correspond to a male or a female eg on Dr is female\n",
    "\n",
    "import_people.groupby(['Salutation','Sex']).count()"
   ]
  },
  {
   "cell_type": "code",
   "execution_count": 157,
   "id": "f0623b89",
   "metadata": {},
   "outputs": [],
   "source": [
    "# We replace the prefixes with reasonable guesses eg Ms to Miss while Col to Mr\n",
    "\n",
    "train[\"Salutation\"] = train[\"Salutation\"].apply(lambda x: 'Miss' if x in ['Ms', 'Lady', 'Mlle', 'Mme'] else x)\n",
    "train[\"Salutation\"] = train[\"Salutation\"].apply(lambda x: 'Master' if x in ['Major','Don', 'Sir'] else x)\n",
    "train[\"Salutation\"] = train[\"Salutation\"].apply(lambda x: 'Mr' if x in ['Col', 'Capt', 'Jonkheer', 'Rev'] else x)\n",
    "train[\"Salutation\"] = train[\"Salutation\"].apply(lambda x: 'Mrs' if x == 'the Countess' else x)\n",
    "\n",
    "male_Drs = train.loc[(train['Salutation'] == 'Dr') & (train['Sex'] == 'male')].index\n",
    "female_Drs = train.loc[(train['Salutation'] == 'Dr') & (train['Sex'] == 'female')].index\n",
    "train.loc[male_Drs,'Salutation'] = 'Mr'\n",
    "train.loc[female_Drs,'Salutation'] = 'Mrs'"
   ]
  },
  {
   "cell_type": "code",
   "execution_count": 158,
   "id": "1a334ba3",
   "metadata": {},
   "outputs": [
    {
     "name": "stdout",
     "output_type": "stream",
     "text": [
      "Salutation  Master  Miss   Mr  Mrs\n",
      "Survived                          \n",
      "0               19    55  449   26\n",
      "1               25   132   84  101\n"
     ]
    },
    {
     "data": {
      "text/plain": [
       "<AxesSubplot:xlabel='Survived', ylabel='count'>"
      ]
     },
     "execution_count": 158,
     "metadata": {},
     "output_type": "execute_result"
    },
    {
     "data": {
      "image/png": "[encoded data removed]",
      "text/plain": [
       "<Figure size 1008x720 with 1 Axes>"
      ]
     },
     "metadata": {},
     "output_type": "display_data"
    }
   ],
   "source": [
    "print(pd.pivot_table(train, index = 'Survived', columns = 'Salutation', values = 'Sex' ,aggfunc ='count'))\n",
    "plt.figure(figsize=(14,10))\n",
    "sns.countplot(data=train, x='Survived', hue='Salutation')"
   ]
  },
  {
   "cell_type": "markdown",
   "id": "e378eaf6",
   "metadata": {},
   "source": [
    "**We can clearly see some patterns here e.g. more people with the 'Mrs' and 'Miss' prefixs survived, while more people with the prefix 'Mr' did not**"
   ]
  },
  {
   "cell_type": "code",
   "execution_count": 159,
   "id": "cc626e4c",
   "metadata": {},
   "outputs": [],
   "source": [
    "# We now drop the columns that we used \n",
    "train.drop('Name', axis=1, inplace=True)"
   ]
  },
  {
   "cell_type": "markdown",
   "id": "a8e31d90",
   "metadata": {},
   "source": [
    "### Cabin"
   ]
  },
  {
   "cell_type": "code",
   "execution_count": 160,
   "id": "39fdd205",
   "metadata": {},
   "outputs": [],
   "source": [
    "# We miss 75% of 'Cabin' column data so we will drop it\n",
    "train.drop('Cabin', axis=1, inplace=True)"
   ]
  },
  {
   "cell_type": "markdown",
   "id": "dfb1edd8",
   "metadata": {},
   "source": [
    "### Fare"
   ]
  },
  {
   "cell_type": "code",
   "execution_count": 161,
   "id": "04d13d97",
   "metadata": {},
   "outputs": [
    {
     "name": "stdout",
     "output_type": "stream",
     "text": [
      "8.0500     43\n",
      "13.0000    42\n",
      "7.8958     38\n",
      "7.7500     34\n",
      "26.0000    31\n",
      "           ..\n",
      "50.4958     1\n",
      "13.8583     1\n",
      "8.4583      1\n",
      "7.7250      1\n",
      "7.5208      1\n",
      "Name: Fare, Length: 248, dtype: int64\n"
     ]
    },
    {
     "data": {
      "text/plain": [
       "<seaborn.axisgrid.FacetGrid at 0x7f4463129910>"
      ]
     },
     "execution_count": 161,
     "metadata": {},
     "output_type": "execute_result"
    },
    {
     "data": {
      "image/png": "[encoded data removed]",
      "text/plain": [
       "<Figure size 360x360 with 1 Axes>"
      ]
     },
     "metadata": {},
     "output_type": "display_data"
    }
   ],
   "source": [
    "# lets check thow much people paid\n",
    "\n",
    "print(train['Fare'].value_counts())\n",
    "sns.displot(data=train, x='Fare', bins=30)"
   ]
  },
  {
   "cell_type": "code",
   "execution_count": 162,
   "id": "682416b8",
   "metadata": {},
   "outputs": [
    {
     "name": "stdout",
     "output_type": "stream",
     "text": [
      "Pclass  Embarked\n",
      "1st     C           104.150287\n",
      "        Q            90.000000\n",
      "        S            70.364862\n",
      "2nd     C            25.358335\n",
      "        Q            12.350000\n",
      "        S            20.327439\n",
      "3rd     C            11.214083\n",
      "        Q            11.183393\n",
      "        S            14.644083\n",
      "Name: Fare, dtype: float64\n"
     ]
    }
   ],
   "source": [
    "print(train.groupby(['Pclass','Embarked']).mean()['Fare'])"
   ]
  },
  {
   "cell_type": "markdown",
   "id": "50a465f5",
   "metadata": {},
   "source": [
    "**Clearly people at the first class paid on average higher Fare**"
   ]
  },
  {
   "cell_type": "code",
   "execution_count": 163,
   "id": "5580a625",
   "metadata": {},
   "outputs": [
    {
     "data": {
      "text/plain": [
       "(7.91, 14.454]     224\n",
       "(-0.001, 7.91]     223\n",
       "(14.454, 31.0]     222\n",
       "(31.0, 512.329]    222\n",
       "Name: Fare, dtype: int64"
      ]
     },
     "execution_count": 163,
     "metadata": {},
     "output_type": "execute_result"
    }
   ],
   "source": [
    "# lets categorize it the Fare in three groups (like the Classes) \n",
    "fare_groups = pd.qcut(train['Fare'], 4).value_counts()\n",
    "fare_groups"
   ]
  },
  {
   "cell_type": "code",
   "execution_count": 164,
   "id": "e35169d7",
   "metadata": {},
   "outputs": [
    {
     "data": {
      "text/plain": [
       "Fare\n",
       "(-0.001, 7.91]     0.197309\n",
       "(7.91, 14.454]     0.303571\n",
       "(14.454, 31.0]     0.454955\n",
       "(31.0, 512.329]    0.581081\n",
       "Name: Survived, dtype: float64"
      ]
     },
     "execution_count": 164,
     "metadata": {},
     "output_type": "execute_result"
    }
   ],
   "source": [
    "train['Survived'].groupby(pd.qcut(train['Fare'], 4)).mean()"
   ]
  },
  {
   "cell_type": "markdown",
   "id": "c9989f96",
   "metadata": {},
   "source": [
    "**Clearly there is a correlation between Fare and Pclass. On average people that paid higher Fare and thus located at better Class had more chances to survive** "
   ]
  },
  {
   "cell_type": "code",
   "execution_count": 165,
   "id": "4f8ed08b",
   "metadata": {},
   "outputs": [],
   "source": [
    "def fare_group(fare):\n",
    "    '''\n",
    "    We decide to seperate the passengers into 4 Age Groups\n",
    "    '''\n",
    "    if fare <= 8.662:\n",
    "        return 'Cheap'\n",
    "    elif fare <= 14.454:\n",
    "        return 'Normal'\n",
    "    elif fare <= 31.0:\n",
    "        return 'Expensive'\n",
    "    else:\n",
    "        return 'VeryExpensive'"
   ]
  },
  {
   "cell_type": "code",
   "execution_count": 166,
   "id": "f0ee9a0e",
   "metadata": {},
   "outputs": [
    {
     "name": "stdout",
     "output_type": "stream",
     "text": [
      "FareGroup  Cheap  Expensive  Normal  VeryExpensive\n",
      "Survived                                          \n",
      "0            235        127      94             93\n",
      "1             60        102      51            129\n"
     ]
    },
    {
     "data": {
      "text/plain": [
       "<AxesSubplot:xlabel='Survived', ylabel='count'>"
      ]
     },
     "execution_count": 166,
     "metadata": {},
     "output_type": "execute_result"
    },
    {
     "data": {
      "image/png": "[encoded data removed]",
      "text/plain": [
       "<Figure size 1440x1152 with 1 Axes>"
      ]
     },
     "metadata": {},
     "output_type": "display_data"
    }
   ],
   "source": [
    "train['FareGroup'] = train['Fare'].apply(fare_group)\n",
    "\n",
    "print(pd.pivot_table(train, index = 'Survived', columns = 'FareGroup', values = 'Fare' ,aggfunc ='count'))\n",
    "hue_order = ['Cheap','Normal','Expensive','VeryExpensive']\n",
    "plt.figure(figsize=(20,16))\n",
    "sns.countplot(data=train, x='Survived',hue = 'FareGroup', hue_order= hue_order,palette='colorblind')"
   ]
  },
  {
   "cell_type": "code",
   "execution_count": 167,
   "id": "b7a76a74",
   "metadata": {},
   "outputs": [],
   "source": [
    "\n",
    "train.drop('Fare',axis = 1, inplace = True)"
   ]
  },
  {
   "cell_type": "markdown",
   "id": "81dffb4c",
   "metadata": {},
   "source": [
    "## Feature engineering"
   ]
  },
  {
   "cell_type": "code",
   "execution_count": 168,
   "id": "c6e79b59",
   "metadata": {},
   "outputs": [
    {
     "data": {
      "text/plain": [
       "PassengerId          0\n",
       "Survived             0\n",
       "Pclass               0\n",
       "Sex                  0\n",
       "Embarked             0\n",
       "AgeGroup             0\n",
       "FamilySize           0\n",
       "Ticket_first_char    0\n",
       "Salutation           0\n",
       "FareGroup            0\n",
       "dtype: int64"
      ]
     },
     "execution_count": 168,
     "metadata": {},
     "output_type": "execute_result"
    }
   ],
   "source": [
    "train.isnull().sum() # be sure that we do not miss values"
   ]
  },
  {
   "cell_type": "code",
   "execution_count": 169,
   "id": "050dcdd7",
   "metadata": {},
   "outputs": [],
   "source": [
    "# create dummy variables\n",
    "\n",
    "pclass = pd.get_dummies(train['Pclass'],drop_first=True)\n",
    "sex=pd.get_dummies(train['Sex'],drop_first=True)\n",
    "embark=pd.get_dummies(train['Embarked'],drop_first=True)\n",
    "salutation = pd.get_dummies(train['Salutation'],drop_first=True)\n",
    "agegroup = pd.get_dummies(train['AgeGroup'],drop_first=True)\n",
    "familySize = pd.get_dummies(train['FamilySize'],drop_first=True)\n",
    "ticket_first_char=pd.get_dummies(train['Ticket_first_char'],drop_first=True)\n",
    "fareGroup=pd.get_dummies(train['FareGroup'],drop_first=True)"
   ]
  },
  {
   "cell_type": "code",
   "execution_count": 170,
   "id": "d3d0dc84",
   "metadata": {},
   "outputs": [],
   "source": [
    "train = pd.concat([train,pclass,sex,embark,salutation,agegroup,familySize,ticket_first_char,fareGroup], axis=1)"
   ]
  },
  {
   "cell_type": "code",
   "execution_count": 171,
   "id": "e408ef36",
   "metadata": {},
   "outputs": [
    {
     "data": {
      "text/html": [
       "<div>\n",
       "<style scoped>\n",
       "    .dataframe tbody tr th:only-of-type {\n",
       "        vertical-align: middle;\n",
       "    }\n",
       "\n",
       "    .dataframe tbody tr th {\n",
       "        vertical-align: top;\n",
       "    }\n",
       "\n",
       "    .dataframe thead th {\n",
       "        text-align: right;\n",
       "    }\n",
       "</style>\n",
       "<table border=\"1\" class=\"dataframe\">\n",
       "  <thead>\n",
       "    <tr style=\"text-align: right;\">\n",
       "      <th></th>\n",
       "      <th>Survived</th>\n",
       "      <th>2nd</th>\n",
       "      <th>3rd</th>\n",
       "      <th>male</th>\n",
       "      <th>Q</th>\n",
       "      <th>S</th>\n",
       "      <th>Miss</th>\n",
       "      <th>Mr</th>\n",
       "      <th>Mrs</th>\n",
       "      <th>Adult</th>\n",
       "      <th>...</th>\n",
       "      <th>3</th>\n",
       "      <th>4</th>\n",
       "      <th>5</th>\n",
       "      <th>6</th>\n",
       "      <th>7</th>\n",
       "      <th>8</th>\n",
       "      <th>9</th>\n",
       "      <th>Expensive</th>\n",
       "      <th>Normal</th>\n",
       "      <th>VeryExpensive</th>\n",
       "    </tr>\n",
       "  </thead>\n",
       "  <tbody>\n",
       "    <tr>\n",
       "      <th>0</th>\n",
       "      <td>0</td>\n",
       "      <td>0</td>\n",
       "      <td>1</td>\n",
       "      <td>1</td>\n",
       "      <td>0</td>\n",
       "      <td>1</td>\n",
       "      <td>0</td>\n",
       "      <td>1</td>\n",
       "      <td>0</td>\n",
       "      <td>1</td>\n",
       "      <td>...</td>\n",
       "      <td>0</td>\n",
       "      <td>0</td>\n",
       "      <td>0</td>\n",
       "      <td>0</td>\n",
       "      <td>0</td>\n",
       "      <td>0</td>\n",
       "      <td>0</td>\n",
       "      <td>0</td>\n",
       "      <td>0</td>\n",
       "      <td>0</td>\n",
       "    </tr>\n",
       "    <tr>\n",
       "      <th>1</th>\n",
       "      <td>1</td>\n",
       "      <td>0</td>\n",
       "      <td>0</td>\n",
       "      <td>0</td>\n",
       "      <td>0</td>\n",
       "      <td>0</td>\n",
       "      <td>0</td>\n",
       "      <td>0</td>\n",
       "      <td>1</td>\n",
       "      <td>1</td>\n",
       "      <td>...</td>\n",
       "      <td>0</td>\n",
       "      <td>0</td>\n",
       "      <td>0</td>\n",
       "      <td>0</td>\n",
       "      <td>0</td>\n",
       "      <td>0</td>\n",
       "      <td>0</td>\n",
       "      <td>0</td>\n",
       "      <td>0</td>\n",
       "      <td>1</td>\n",
       "    </tr>\n",
       "    <tr>\n",
       "      <th>2</th>\n",
       "      <td>1</td>\n",
       "      <td>0</td>\n",
       "      <td>1</td>\n",
       "      <td>0</td>\n",
       "      <td>0</td>\n",
       "      <td>1</td>\n",
       "      <td>1</td>\n",
       "      <td>0</td>\n",
       "      <td>0</td>\n",
       "      <td>1</td>\n",
       "      <td>...</td>\n",
       "      <td>1</td>\n",
       "      <td>0</td>\n",
       "      <td>0</td>\n",
       "      <td>0</td>\n",
       "      <td>0</td>\n",
       "      <td>0</td>\n",
       "      <td>0</td>\n",
       "      <td>0</td>\n",
       "      <td>0</td>\n",
       "      <td>0</td>\n",
       "    </tr>\n",
       "    <tr>\n",
       "      <th>3</th>\n",
       "      <td>1</td>\n",
       "      <td>0</td>\n",
       "      <td>0</td>\n",
       "      <td>0</td>\n",
       "      <td>0</td>\n",
       "      <td>1</td>\n",
       "      <td>0</td>\n",
       "      <td>0</td>\n",
       "      <td>1</td>\n",
       "      <td>1</td>\n",
       "      <td>...</td>\n",
       "      <td>0</td>\n",
       "      <td>0</td>\n",
       "      <td>0</td>\n",
       "      <td>0</td>\n",
       "      <td>0</td>\n",
       "      <td>0</td>\n",
       "      <td>0</td>\n",
       "      <td>0</td>\n",
       "      <td>0</td>\n",
       "      <td>1</td>\n",
       "    </tr>\n",
       "    <tr>\n",
       "      <th>4</th>\n",
       "      <td>0</td>\n",
       "      <td>0</td>\n",
       "      <td>1</td>\n",
       "      <td>1</td>\n",
       "      <td>0</td>\n",
       "      <td>1</td>\n",
       "      <td>0</td>\n",
       "      <td>1</td>\n",
       "      <td>0</td>\n",
       "      <td>1</td>\n",
       "      <td>...</td>\n",
       "      <td>1</td>\n",
       "      <td>0</td>\n",
       "      <td>0</td>\n",
       "      <td>0</td>\n",
       "      <td>0</td>\n",
       "      <td>0</td>\n",
       "      <td>0</td>\n",
       "      <td>0</td>\n",
       "      <td>0</td>\n",
       "      <td>0</td>\n",
       "    </tr>\n",
       "  </tbody>\n",
       "</table>\n",
       "<p>5 rows × 26 columns</p>\n",
       "</div>"
      ],
      "text/plain": [
       "   Survived  2nd  3rd  male  Q  S  Miss  Mr  Mrs  Adult  ...  3  4  5  6  7  \\\n",
       "0         0    0    1     1  0  1     0   1    0      1  ...  0  0  0  0  0   \n",
       "1         1    0    0     0  0  0     0   0    1      1  ...  0  0  0  0  0   \n",
       "2         1    0    1     0  0  1     1   0    0      1  ...  1  0  0  0  0   \n",
       "3         1    0    0     0  0  1     0   0    1      1  ...  0  0  0  0  0   \n",
       "4         0    0    1     1  0  1     0   1    0      1  ...  1  0  0  0  0   \n",
       "\n",
       "   8  9  Expensive  Normal  VeryExpensive  \n",
       "0  0  0          0       0              0  \n",
       "1  0  0          0       0              1  \n",
       "2  0  0          0       0              0  \n",
       "3  0  0          0       0              1  \n",
       "4  0  0          0       0              0  \n",
       "\n",
       "[5 rows x 26 columns]"
      ]
     },
     "execution_count": 171,
     "metadata": {},
     "output_type": "execute_result"
    }
   ],
   "source": [
    "train.drop(['PassengerId','Pclass','Sex','Embarked','FamilySize','AgeGroup','Salutation','Ticket_first_char','FareGroup'],axis=1,inplace=True)\n",
    "train.head()"
   ]
  },
  {
   "cell_type": "markdown",
   "id": "2fa674a4",
   "metadata": {},
   "source": [
    "## Train Test Split"
   ]
  },
  {
   "cell_type": "code",
   "execution_count": 172,
   "id": "91c8f95a",
   "metadata": {},
   "outputs": [],
   "source": [
    "from sklearn.model_selection import train_test_split, cross_val_score\n",
    "\n",
    "X_train, X_test, y_train, y_test = train_test_split(train.drop('Survived',axis=1), \n",
    "                                                    train['Survived'], test_size=0.30, \n",
    "                                                    random_state=101)\n"
   ]
  },
  {
   "cell_type": "markdown",
   "id": "b0b4324c",
   "metadata": {},
   "source": [
    "## Finding optimal parameters"
   ]
  },
  {
   "cell_type": "code",
   "execution_count": 173,
   "id": "56c08fd2",
   "metadata": {},
   "outputs": [],
   "source": [
    "from sklearn.linear_model import LogisticRegression\n",
    "from sklearn.ensemble import RandomForestClassifier\n",
    "from sklearn.naive_bayes import GaussianNB\n",
    "from sklearn.linear_model import SGDClassifier\n",
    "\n",
    "from sklearn.model_selection import GridSearchCV"
   ]
  },
  {
   "cell_type": "code",
   "execution_count": 174,
   "id": "782b2d2f",
   "metadata": {},
   "outputs": [],
   "source": [
    "log = LogisticRegression(max_iter = 10000)\n",
    "rfc = RandomForestClassifier()\n",
    "nb = GaussianNB()\n",
    "sgd = SGDClassifier(max_iter = 10000)"
   ]
  },
  {
   "cell_type": "code",
   "execution_count": 175,
   "id": "1105e0e7",
   "metadata": {},
   "outputs": [
    {
     "name": "stdout",
     "output_type": "stream",
     "text": [
      "0.8266967741935483\n",
      "0.8057935483870968\n",
      "0.5870064516129032\n",
      "0.7658322580645162\n"
     ]
    }
   ],
   "source": [
    "print(cross_val_score(log, X_train, y_train).mean())\n",
    "print(cross_val_score(rfc, X_train, y_train).mean())\n",
    "print(cross_val_score(nb, X_train, y_train).mean())\n",
    "print(cross_val_score(sgd, X_train, y_train).mean())"
   ]
  },
  {
   "cell_type": "markdown",
   "id": "149d0aea",
   "metadata": {},
   "source": [
    "**The logisti regression model has the highest cross validation score with the Random Forest and Support Vector Machine following closely. This means that the Logistic Regression model predicts more efficiently out-of-sample data**"
   ]
  },
  {
   "cell_type": "code",
   "execution_count": 176,
   "id": "111622e3",
   "metadata": {},
   "outputs": [
    {
     "data": {
      "text/plain": [
       "SGDClassifier(max_iter=10000)"
      ]
     },
     "execution_count": 176,
     "metadata": {},
     "output_type": "execute_result"
    }
   ],
   "source": [
    "log.fit(X_train.values, y_train)\n",
    "rfc.fit(X_train, y_train)\n",
    "nb.fit(X_train, y_train)\n",
    "sgd.fit(X_train, y_train)"
   ]
  },
  {
   "cell_type": "code",
   "execution_count": 177,
   "id": "236a0dd4",
   "metadata": {},
   "outputs": [],
   "source": [
    "predictions = log.predict(X_test.values)\n",
    "predictions_2 = rfc.predict(X_test)\n",
    "predictions_3 = nb.predict(X_test)\n",
    "predictions_4 = sgd.predict(X_test)"
   ]
  },
  {
   "cell_type": "markdown",
   "id": "18399c7c",
   "metadata": {},
   "source": [
    "# Evaluate my models"
   ]
  },
  {
   "cell_type": "code",
   "execution_count": 178,
   "id": "8db883eb",
   "metadata": {},
   "outputs": [],
   "source": [
    "from sklearn.metrics import classification_report, accuracy_score"
   ]
  },
  {
   "cell_type": "code",
   "execution_count": 179,
   "id": "5b8bf5f2",
   "metadata": {},
   "outputs": [
    {
     "name": "stdout",
     "output_type": "stream",
     "text": [
      "              precision    recall  f1-score   support\n",
      "\n",
      "           0       0.79      0.90      0.84       154\n",
      "           1       0.83      0.68      0.74       114\n",
      "\n",
      "    accuracy                           0.80       268\n",
      "   macro avg       0.81      0.79      0.79       268\n",
      "weighted avg       0.81      0.80      0.80       268\n",
      "\n"
     ]
    },
    {
     "data": {
      "text/plain": [
       "0.8022388059701493"
      ]
     },
     "execution_count": 179,
     "metadata": {},
     "output_type": "execute_result"
    }
   ],
   "source": [
    "print(classification_report(y_test,predictions))\n",
    "accuracy_score(predictions, y_test)"
   ]
  },
  {
   "cell_type": "code",
   "execution_count": 180,
   "id": "5b37d8b6",
   "metadata": {},
   "outputs": [
    {
     "name": "stdout",
     "output_type": "stream",
     "text": [
      "              precision    recall  f1-score   support\n",
      "\n",
      "           0       0.81      0.88      0.84       154\n",
      "           1       0.82      0.72      0.77       114\n",
      "\n",
      "    accuracy                           0.81       268\n",
      "   macro avg       0.81      0.80      0.81       268\n",
      "weighted avg       0.81      0.81      0.81       268\n",
      "\n"
     ]
    },
    {
     "data": {
      "text/plain": [
       "0.8134328358208955"
      ]
     },
     "execution_count": 180,
     "metadata": {},
     "output_type": "execute_result"
    }
   ],
   "source": [
    "print(classification_report(y_test,predictions_2))\n",
    "accuracy_score(predictions_2, y_test)"
   ]
  },
  {
   "cell_type": "code",
   "execution_count": 181,
   "id": "56410552",
   "metadata": {},
   "outputs": [
    {
     "name": "stdout",
     "output_type": "stream",
     "text": [
      "              precision    recall  f1-score   support\n",
      "\n",
      "           0       0.82      0.82      0.82       154\n",
      "           1       0.75      0.75      0.75       114\n",
      "\n",
      "    accuracy                           0.79       268\n",
      "   macro avg       0.79      0.79      0.79       268\n",
      "weighted avg       0.79      0.79      0.79       268\n",
      "\n"
     ]
    },
    {
     "data": {
      "text/plain": [
       "0.7910447761194029"
      ]
     },
     "execution_count": 181,
     "metadata": {},
     "output_type": "execute_result"
    }
   ],
   "source": [
    "print(classification_report(y_test,predictions_3))\n",
    "accuracy_score(predictions_3, y_test)"
   ]
  },
  {
   "cell_type": "code",
   "execution_count": 182,
   "id": "37ceb8f7",
   "metadata": {},
   "outputs": [
    {
     "name": "stdout",
     "output_type": "stream",
     "text": [
      "              precision    recall  f1-score   support\n",
      "\n",
      "           0       0.77      0.93      0.84       154\n",
      "           1       0.87      0.62      0.72       114\n",
      "\n",
      "    accuracy                           0.80       268\n",
      "   macro avg       0.82      0.78      0.78       268\n",
      "weighted avg       0.81      0.80      0.79       268\n",
      "\n"
     ]
    },
    {
     "data": {
      "text/plain": [
       "0.7985074626865671"
      ]
     },
     "execution_count": 182,
     "metadata": {},
     "output_type": "execute_result"
    }
   ],
   "source": [
    "print(classification_report(y_test,predictions_4))\n",
    "accuracy_score(predictions_4, y_test)"
   ]
  },
  {
   "cell_type": "markdown",
   "id": "eaf0a537",
   "metadata": {},
   "source": [
    "# Optimizing the best models"
   ]
  },
  {
   "cell_type": "code",
   "execution_count": 183,
   "id": "9cc11474",
   "metadata": {},
   "outputs": [
    {
     "name": "stderr",
     "output_type": "stream",
     "text": [
      "/home/adam/anaconda3/envs/MLCourse/lib/python3.8/site-packages/sklearn/model_selection/_validation.py:372: FitFailedWarning: \n",
      "750 fits failed out of a total of 1500.\n",
      "The score on these train-test partitions for these parameters will be set to nan.\n",
      "If these failures are not expected, you can try to debug them by setting error_score='raise'.\n",
      "\n",
      "Below are more details about the failures:\n",
      "--------------------------------------------------------------------------------\n",
      "250 fits failed with the following error:\n",
      "Traceback (most recent call last):\n",
      "  File \"/home/adam/anaconda3/envs/MLCourse/lib/python3.8/site-packages/sklearn/model_selection/_validation.py\", line 681, in _fit_and_score\n",
      "    estimator.fit(X_train, y_train, **fit_params)\n",
      "  File \"/home/adam/anaconda3/envs/MLCourse/lib/python3.8/site-packages/sklearn/linear_model/_logistic.py\", line 1461, in fit\n",
      "    solver = _check_solver(self.solver, self.penalty, self.dual)\n",
      "  File \"/home/adam/anaconda3/envs/MLCourse/lib/python3.8/site-packages/sklearn/linear_model/_logistic.py\", line 447, in _check_solver\n",
      "    raise ValueError(\n",
      "ValueError: Solver lbfgs supports only 'l2' or 'none' penalties, got l1 penalty.\n",
      "\n",
      "--------------------------------------------------------------------------------\n",
      "250 fits failed with the following error:\n",
      "Traceback (most recent call last):\n",
      "  File \"/home/adam/anaconda3/envs/MLCourse/lib/python3.8/site-packages/sklearn/model_selection/_validation.py\", line 681, in _fit_and_score\n",
      "    estimator.fit(X_train, y_train, **fit_params)\n",
      "  File \"/home/adam/anaconda3/envs/MLCourse/lib/python3.8/site-packages/sklearn/linear_model/_logistic.py\", line 1461, in fit\n",
      "    solver = _check_solver(self.solver, self.penalty, self.dual)\n",
      "  File \"/home/adam/anaconda3/envs/MLCourse/lib/python3.8/site-packages/sklearn/linear_model/_logistic.py\", line 447, in _check_solver\n",
      "    raise ValueError(\n",
      "ValueError: Solver lbfgs supports only 'l2' or 'none' penalties, got elasticnet penalty.\n",
      "\n",
      "--------------------------------------------------------------------------------\n",
      "250 fits failed with the following error:\n",
      "Traceback (most recent call last):\n",
      "  File \"/home/adam/anaconda3/envs/MLCourse/lib/python3.8/site-packages/sklearn/model_selection/_validation.py\", line 681, in _fit_and_score\n",
      "    estimator.fit(X_train, y_train, **fit_params)\n",
      "  File \"/home/adam/anaconda3/envs/MLCourse/lib/python3.8/site-packages/sklearn/linear_model/_logistic.py\", line 1461, in fit\n",
      "    solver = _check_solver(self.solver, self.penalty, self.dual)\n",
      "  File \"/home/adam/anaconda3/envs/MLCourse/lib/python3.8/site-packages/sklearn/linear_model/_logistic.py\", line 457, in _check_solver\n",
      "    raise ValueError(\n",
      "ValueError: Only 'saga' solver supports elasticnet penalty, got solver=liblinear.\n",
      "\n",
      "  warnings.warn(some_fits_failed_message, FitFailedWarning)\n",
      "/home/adam/anaconda3/envs/MLCourse/lib/python3.8/site-packages/sklearn/model_selection/_search.py:969: UserWarning: One or more of the test scores are non-finite: [       nan 0.63403871 0.63403871 0.64366452        nan        nan\n",
      "        nan 0.63403871 0.63403871 0.65492903        nan        nan\n",
      "        nan 0.63403871 0.63403871 0.67576774        nan        nan\n",
      "        nan 0.63403871 0.63403871 0.69667097        nan        nan\n",
      "        nan 0.63403871 0.63403871 0.71757419        nan        nan\n",
      "        nan 0.63403871 0.66296774 0.75131613        nan        nan\n",
      "        nan 0.63403871 0.73843871 0.77056774        nan        nan\n",
      "        nan 0.63403871 0.76734194 0.77855484        nan        nan\n",
      "        nan 0.63403871 0.79298065 0.80100645        nan        nan\n",
      "        nan 0.63403871 0.79455484 0.79778065        nan        nan\n",
      "        nan 0.63403871 0.79292903 0.79132903        nan        nan\n",
      "        nan 0.63403871 0.80094194 0.79132903        nan        nan\n",
      "        nan 0.63403871 0.80089032 0.79931613        nan        nan\n",
      "        nan 0.73682581 0.80574194 0.79449032        nan        nan\n",
      "        nan 0.78975484 0.80254194 0.81055484        nan        nan\n",
      "        nan 0.78330323 0.80576774 0.81215484        nan        nan\n",
      "        nan 0.79452903 0.81378065 0.81376774        nan        nan\n",
      "        nan 0.79612903 0.81218065 0.81216774        nan        nan\n",
      "        nan 0.81701935 0.81218065 0.81216774        nan        nan\n",
      "        nan 0.82828387 0.81540645 0.81378065        nan        nan\n",
      "        nan 0.82988387 0.81861935 0.81860645        nan        nan\n",
      "        nan 0.82988387 0.82345806 0.82344516        nan        nan\n",
      "        nan 0.82988387 0.82185806 0.82505806        nan        nan\n",
      "        nan 0.83308387 0.82347097 0.82828387        nan        nan\n",
      "        nan 0.83308387 0.82669677 0.83149677        nan        nan\n",
      "        nan 0.83308387 0.82989677 0.83309677        nan        nan\n",
      "        nan 0.83630968 0.82989677 0.83310968        nan        nan\n",
      "        nan 0.83470968 0.82988387 0.83149677        nan        nan\n",
      "        nan 0.83150968 0.82988387 0.83149677        nan        nan\n",
      "        nan 0.82990968 0.82988387 0.83310968        nan        nan\n",
      "        nan 0.83152258 0.82989677 0.83150968        nan        nan\n",
      "        nan 0.83152258 0.82829677 0.82990968        nan        nan\n",
      "        nan 0.83152258 0.82990968 0.82990968        nan        nan\n",
      "        nan 0.82990968 0.82990968 0.83152258        nan        nan\n",
      "        nan 0.82829677 0.82990968 0.82990968        nan        nan\n",
      "        nan 0.82989677 0.82990968 0.82990968        nan        nan\n",
      "        nan 0.82989677 0.82829677 0.82829677        nan        nan\n",
      "        nan 0.82989677 0.82989677 0.82829677        nan        nan\n",
      "        nan 0.82989677 0.82989677 0.82829677        nan        nan\n",
      "        nan 0.82989677 0.82989677 0.82989677        nan        nan\n",
      "        nan 0.82989677 0.82989677 0.82989677        nan        nan\n",
      "        nan 0.82989677 0.82989677 0.82989677        nan        nan\n",
      "        nan 0.82989677 0.82989677 0.82989677        nan        nan\n",
      "        nan 0.82989677 0.82989677 0.82989677        nan        nan\n",
      "        nan 0.82989677 0.82989677 0.82989677        nan        nan\n",
      "        nan 0.82829677 0.82989677 0.82989677        nan        nan\n",
      "        nan 0.82829677 0.82989677 0.82989677        nan        nan\n",
      "        nan 0.82829677 0.82989677 0.82989677        nan        nan\n",
      "        nan 0.82829677 0.82829677 0.82829677        nan        nan\n",
      "        nan 0.82829677 0.82829677 0.82829677        nan        nan]\n",
      "  warnings.warn(\n"
     ]
    },
    {
     "data": {
      "text/plain": [
       "LogisticRegression(C=1.5264179671752334, max_iter=10000, penalty='l1',\n",
       "                   solver='liblinear')"
      ]
     },
     "execution_count": 183,
     "metadata": {},
     "output_type": "execute_result"
    }
   ],
   "source": [
    "# GridSearch for the Logistic Regression model\n",
    "\n",
    "param_grid = { \n",
    "    'C':  np.logspace(-3, 3, 50),\n",
    "    'solver' : ['lbfgs', 'liblinear'],\n",
    "    'penalty': ['l1', 'l2','elasticnet']\n",
    "}\n",
    "CV_log = GridSearchCV(estimator=log, param_grid=param_grid, verbose=0)\n",
    "CV_log.fit(X_train, y_train)\n",
    "CV_log.best_params_\n",
    "CV_log.best_estimator_"
   ]
  },
  {
   "cell_type": "code",
   "execution_count": 184,
   "id": "7d2d067f",
   "metadata": {},
   "outputs": [
    {
     "data": {
      "text/plain": [
       "RandomForestClassifier(criterion='entropy', max_depth=6, n_estimators=200)"
      ]
     },
     "execution_count": 184,
     "metadata": {},
     "output_type": "execute_result"
    }
   ],
   "source": [
    "# GridSearch for the Random Forest Classifier model\n",
    "\n",
    "param_grid = { \n",
    "    'n_estimators': [200, 500],\n",
    "    'max_features': ['auto', 'sqrt', 'log2'],\n",
    "    'max_depth' : [4,5,6,7,8],\n",
    "    'criterion' :['gini', 'entropy']\n",
    "}\n",
    "CV_rfc = GridSearchCV(estimator=rfc, param_grid=param_grid, verbose=0)\n",
    "CV_rfc.fit(X_train, y_train)\n",
    "CV_rfc.best_params_\n",
    "CV_rfc.best_estimator_"
   ]
  },
  {
   "cell_type": "code",
   "execution_count": 185,
   "id": "3bd79457",
   "metadata": {},
   "outputs": [
    {
     "data": {
      "text/plain": [
       "GaussianNB(var_smoothing=0.12328467394420659)"
      ]
     },
     "execution_count": 185,
     "metadata": {},
     "output_type": "execute_result"
    }
   ],
   "source": [
    "# GridSearch for the Naive Bayes Gaussian model\n",
    "\n",
    "param_grid = {'var_smoothing': np.logspace(0,-9, num=100)}\n",
    "\n",
    "CV_nb = GridSearchCV(estimator=nb, param_grid=param_grid, verbose=0)\n",
    "CV_nb.fit(X_train, y_train)\n",
    "CV_nb.best_params_\n",
    "CV_nb.best_estimator_"
   ]
  },
  {
   "cell_type": "code",
   "execution_count": 186,
   "id": "2e6700f8",
   "metadata": {},
   "outputs": [
    {
     "name": "stderr",
     "output_type": "stream",
     "text": [
      "/home/adam/anaconda3/envs/MLCourse/lib/python3.8/site-packages/sklearn/linear_model/_stochastic_gradient.py:696: ConvergenceWarning: Maximum number of iteration reached before convergence. Consider increasing max_iter to improve the fit.\n",
      "  warnings.warn(\n",
      "/home/adam/anaconda3/envs/MLCourse/lib/python3.8/site-packages/sklearn/linear_model/_stochastic_gradient.py:696: ConvergenceWarning: Maximum number of iteration reached before convergence. Consider increasing max_iter to improve the fit.\n",
      "  warnings.warn(\n",
      "/home/adam/anaconda3/envs/MLCourse/lib/python3.8/site-packages/sklearn/linear_model/_stochastic_gradient.py:696: ConvergenceWarning: Maximum number of iteration reached before convergence. Consider increasing max_iter to improve the fit.\n",
      "  warnings.warn(\n",
      "/home/adam/anaconda3/envs/MLCourse/lib/python3.8/site-packages/sklearn/linear_model/_stochastic_gradient.py:696: ConvergenceWarning: Maximum number of iteration reached before convergence. Consider increasing max_iter to improve the fit.\n",
      "  warnings.warn(\n",
      "/home/adam/anaconda3/envs/MLCourse/lib/python3.8/site-packages/sklearn/linear_model/_stochastic_gradient.py:696: ConvergenceWarning: Maximum number of iteration reached before convergence. Consider increasing max_iter to improve the fit.\n",
      "  warnings.warn(\n",
      "/home/adam/anaconda3/envs/MLCourse/lib/python3.8/site-packages/sklearn/linear_model/_stochastic_gradient.py:696: ConvergenceWarning: Maximum number of iteration reached before convergence. Consider increasing max_iter to improve the fit.\n",
      "  warnings.warn(\n",
      "/home/adam/anaconda3/envs/MLCourse/lib/python3.8/site-packages/sklearn/linear_model/_stochastic_gradient.py:696: ConvergenceWarning: Maximum number of iteration reached before convergence. Consider increasing max_iter to improve the fit.\n",
      "  warnings.warn(\n",
      "/home/adam/anaconda3/envs/MLCourse/lib/python3.8/site-packages/sklearn/linear_model/_stochastic_gradient.py:696: ConvergenceWarning: Maximum number of iteration reached before convergence. Consider increasing max_iter to improve the fit.\n",
      "  warnings.warn(\n",
      "/home/adam/anaconda3/envs/MLCourse/lib/python3.8/site-packages/sklearn/linear_model/_stochastic_gradient.py:696: ConvergenceWarning: Maximum number of iteration reached before convergence. Consider increasing max_iter to improve the fit.\n",
      "  warnings.warn(\n",
      "/home/adam/anaconda3/envs/MLCourse/lib/python3.8/site-packages/sklearn/linear_model/_stochastic_gradient.py:696: ConvergenceWarning: Maximum number of iteration reached before convergence. Consider increasing max_iter to improve the fit.\n",
      "  warnings.warn(\n",
      "/home/adam/anaconda3/envs/MLCourse/lib/python3.8/site-packages/sklearn/linear_model/_stochastic_gradient.py:696: ConvergenceWarning: Maximum number of iteration reached before convergence. Consider increasing max_iter to improve the fit.\n",
      "  warnings.warn(\n",
      "/home/adam/anaconda3/envs/MLCourse/lib/python3.8/site-packages/sklearn/linear_model/_stochastic_gradient.py:696: ConvergenceWarning: Maximum number of iteration reached before convergence. Consider increasing max_iter to improve the fit.\n",
      "  warnings.warn(\n",
      "/home/adam/anaconda3/envs/MLCourse/lib/python3.8/site-packages/sklearn/linear_model/_stochastic_gradient.py:696: ConvergenceWarning: Maximum number of iteration reached before convergence. Consider increasing max_iter to improve the fit.\n",
      "  warnings.warn(\n",
      "/home/adam/anaconda3/envs/MLCourse/lib/python3.8/site-packages/sklearn/linear_model/_stochastic_gradient.py:696: ConvergenceWarning: Maximum number of iteration reached before convergence. Consider increasing max_iter to improve the fit.\n",
      "  warnings.warn(\n",
      "/home/adam/anaconda3/envs/MLCourse/lib/python3.8/site-packages/sklearn/linear_model/_stochastic_gradient.py:696: ConvergenceWarning: Maximum number of iteration reached before convergence. Consider increasing max_iter to improve the fit.\n",
      "  warnings.warn(\n",
      "/home/adam/anaconda3/envs/MLCourse/lib/python3.8/site-packages/sklearn/linear_model/_stochastic_gradient.py:696: ConvergenceWarning: Maximum number of iteration reached before convergence. Consider increasing max_iter to improve the fit.\n",
      "  warnings.warn(\n",
      "/home/adam/anaconda3/envs/MLCourse/lib/python3.8/site-packages/sklearn/linear_model/_stochastic_gradient.py:696: ConvergenceWarning: Maximum number of iteration reached before convergence. Consider increasing max_iter to improve the fit.\n",
      "  warnings.warn(\n",
      "/home/adam/anaconda3/envs/MLCourse/lib/python3.8/site-packages/sklearn/linear_model/_stochastic_gradient.py:696: ConvergenceWarning: Maximum number of iteration reached before convergence. Consider increasing max_iter to improve the fit.\n",
      "  warnings.warn(\n",
      "/home/adam/anaconda3/envs/MLCourse/lib/python3.8/site-packages/sklearn/linear_model/_stochastic_gradient.py:696: ConvergenceWarning: Maximum number of iteration reached before convergence. Consider increasing max_iter to improve the fit.\n",
      "  warnings.warn(\n",
      "/home/adam/anaconda3/envs/MLCourse/lib/python3.8/site-packages/sklearn/linear_model/_stochastic_gradient.py:696: ConvergenceWarning: Maximum number of iteration reached before convergence. Consider increasing max_iter to improve the fit.\n",
      "  warnings.warn(\n",
      "/home/adam/anaconda3/envs/MLCourse/lib/python3.8/site-packages/sklearn/linear_model/_stochastic_gradient.py:696: ConvergenceWarning: Maximum number of iteration reached before convergence. Consider increasing max_iter to improve the fit.\n",
      "  warnings.warn(\n",
      "/home/adam/anaconda3/envs/MLCourse/lib/python3.8/site-packages/sklearn/linear_model/_stochastic_gradient.py:696: ConvergenceWarning: Maximum number of iteration reached before convergence. Consider increasing max_iter to improve the fit.\n",
      "  warnings.warn(\n",
      "/home/adam/anaconda3/envs/MLCourse/lib/python3.8/site-packages/sklearn/linear_model/_stochastic_gradient.py:696: ConvergenceWarning: Maximum number of iteration reached before convergence. Consider increasing max_iter to improve the fit.\n",
      "  warnings.warn(\n",
      "/home/adam/anaconda3/envs/MLCourse/lib/python3.8/site-packages/sklearn/linear_model/_stochastic_gradient.py:696: ConvergenceWarning: Maximum number of iteration reached before convergence. Consider increasing max_iter to improve the fit.\n",
      "  warnings.warn(\n",
      "/home/adam/anaconda3/envs/MLCourse/lib/python3.8/site-packages/sklearn/linear_model/_stochastic_gradient.py:696: ConvergenceWarning: Maximum number of iteration reached before convergence. Consider increasing max_iter to improve the fit.\n",
      "  warnings.warn(\n",
      "/home/adam/anaconda3/envs/MLCourse/lib/python3.8/site-packages/sklearn/linear_model/_stochastic_gradient.py:696: ConvergenceWarning: Maximum number of iteration reached before convergence. Consider increasing max_iter to improve the fit.\n",
      "  warnings.warn(\n",
      "/home/adam/anaconda3/envs/MLCourse/lib/python3.8/site-packages/sklearn/linear_model/_stochastic_gradient.py:696: ConvergenceWarning: Maximum number of iteration reached before convergence. Consider increasing max_iter to improve the fit.\n",
      "  warnings.warn(\n",
      "/home/adam/anaconda3/envs/MLCourse/lib/python3.8/site-packages/sklearn/linear_model/_stochastic_gradient.py:696: ConvergenceWarning: Maximum number of iteration reached before convergence. Consider increasing max_iter to improve the fit.\n",
      "  warnings.warn(\n",
      "/home/adam/anaconda3/envs/MLCourse/lib/python3.8/site-packages/sklearn/linear_model/_stochastic_gradient.py:696: ConvergenceWarning: Maximum number of iteration reached before convergence. Consider increasing max_iter to improve the fit.\n",
      "  warnings.warn(\n",
      "/home/adam/anaconda3/envs/MLCourse/lib/python3.8/site-packages/sklearn/linear_model/_stochastic_gradient.py:696: ConvergenceWarning: Maximum number of iteration reached before convergence. Consider increasing max_iter to improve the fit.\n",
      "  warnings.warn(\n",
      "/home/adam/anaconda3/envs/MLCourse/lib/python3.8/site-packages/sklearn/linear_model/_stochastic_gradient.py:696: ConvergenceWarning: Maximum number of iteration reached before convergence. Consider increasing max_iter to improve the fit.\n",
      "  warnings.warn(\n"
     ]
    },
    {
     "data": {
      "text/plain": [
       "SGDClassifier(alpha=0.01, max_iter=10000, penalty='none')"
      ]
     },
     "execution_count": 186,
     "metadata": {},
     "output_type": "execute_result"
    }
   ],
   "source": [
    "# GridSearch for the Support Vector Machine model\n",
    "\n",
    "param_grid = {\n",
    "    \"loss\" : [\"hinge\", \"log\", \"squared_hinge\", \"modified_huber\"],\n",
    "    \"alpha\" : [0.0001, 0.001, 0.01, 0.1],\n",
    "    \"penalty\" : [\"l2\", \"l1\", \"none\"],\n",
    "}\n",
    "\n",
    "CV_sgd = GridSearchCV(estimator=sgd, param_grid=param_grid, verbose=0)\n",
    "CV_sgd.fit(X_train, y_train)\n",
    "CV_sgd.best_params_\n",
    "CV_sgd.best_estimator_"
   ]
  },
  {
   "cell_type": "code",
   "execution_count": 187,
   "id": "75bf90a9",
   "metadata": {},
   "outputs": [
    {
     "name": "stderr",
     "output_type": "stream",
     "text": [
      "/home/adam/anaconda3/envs/MLCourse/lib/python3.8/site-packages/sklearn/base.py:445: UserWarning: X does not have valid feature names, but LogisticRegression was fitted with feature names\n",
      "  warnings.warn(\n"
     ]
    }
   ],
   "source": [
    "predictions = CV_log.predict(X_test.values)\n",
    "predictions_2 = CV_rfc.predict(X_test)\n",
    "predictions_3 = CV_nb.predict(X_test)\n",
    "predictions_4 = CV_sgd.predict(X_test)"
   ]
  },
  {
   "cell_type": "markdown",
   "id": "7a3c0eab",
   "metadata": {},
   "source": [
    "## Evalute my Model"
   ]
  },
  {
   "cell_type": "code",
   "execution_count": 188,
   "id": "6dae3463",
   "metadata": {
    "scrolled": true
   },
   "outputs": [
    {
     "name": "stdout",
     "output_type": "stream",
     "text": [
      "              precision    recall  f1-score   support\n",
      "\n",
      "           0       0.80      0.88      0.84       154\n",
      "           1       0.81      0.70      0.75       114\n",
      "\n",
      "    accuracy                           0.80       268\n",
      "   macro avg       0.80      0.79      0.79       268\n",
      "weighted avg       0.80      0.80      0.80       268\n",
      "\n"
     ]
    },
    {
     "data": {
      "text/plain": [
       "0.8022388059701493"
      ]
     },
     "execution_count": 188,
     "metadata": {},
     "output_type": "execute_result"
    }
   ],
   "source": [
    "print(classification_report(y_test,predictions))\n",
    "accuracy_score(predictions, y_test)"
   ]
  },
  {
   "cell_type": "code",
   "execution_count": 189,
   "id": "c3fe89d6",
   "metadata": {},
   "outputs": [
    {
     "name": "stdout",
     "output_type": "stream",
     "text": [
      "              precision    recall  f1-score   support\n",
      "\n",
      "           0       0.77      0.92      0.84       154\n",
      "           1       0.86      0.63      0.73       114\n",
      "\n",
      "    accuracy                           0.80       268\n",
      "   macro avg       0.81      0.78      0.78       268\n",
      "weighted avg       0.81      0.80      0.79       268\n",
      "\n"
     ]
    },
    {
     "data": {
      "text/plain": [
       "0.7985074626865671"
      ]
     },
     "execution_count": 189,
     "metadata": {},
     "output_type": "execute_result"
    }
   ],
   "source": [
    "print(classification_report(y_test,predictions_2))\n",
    "accuracy_score(predictions_2, y_test)"
   ]
  },
  {
   "cell_type": "code",
   "execution_count": 190,
   "id": "bd1d64ae",
   "metadata": {},
   "outputs": [
    {
     "name": "stdout",
     "output_type": "stream",
     "text": [
      "              precision    recall  f1-score   support\n",
      "\n",
      "           0       0.79      0.85      0.82       154\n",
      "           1       0.78      0.70      0.74       114\n",
      "\n",
      "    accuracy                           0.79       268\n",
      "   macro avg       0.79      0.78      0.78       268\n",
      "weighted avg       0.79      0.79      0.79       268\n",
      "\n"
     ]
    },
    {
     "data": {
      "text/plain": [
       "0.7873134328358209"
      ]
     },
     "execution_count": 190,
     "metadata": {},
     "output_type": "execute_result"
    }
   ],
   "source": [
    "print(classification_report(y_test,predictions_3))\n",
    "accuracy_score(predictions_3, y_test)"
   ]
  },
  {
   "cell_type": "code",
   "execution_count": 191,
   "id": "8fb28c5b",
   "metadata": {},
   "outputs": [
    {
     "name": "stdout",
     "output_type": "stream",
     "text": [
      "              precision    recall  f1-score   support\n",
      "\n",
      "           0       0.80      0.90      0.85       154\n",
      "           1       0.83      0.70      0.76       114\n",
      "\n",
      "    accuracy                           0.81       268\n",
      "   macro avg       0.82      0.80      0.80       268\n",
      "weighted avg       0.82      0.81      0.81       268\n",
      "\n"
     ]
    },
    {
     "data": {
      "text/plain": [
       "0.8134328358208955"
      ]
     },
     "execution_count": 191,
     "metadata": {},
     "output_type": "execute_result"
    }
   ],
   "source": [
    "print(classification_report(y_test,predictions_4))\n",
    "accuracy_score(predictions_4, y_test)"
   ]
  },
  {
   "cell_type": "markdown",
   "id": "6063f8c1",
   "metadata": {},
   "source": [
    "**The models have an accuracy of around 80%, with the LR and SVM models slightly outperforming the other models. Even though these results are satisfying, it is undeniable that there is more room to discover new features and improve models, for example, the concept behind the `Ticket` may not be the best or we can choose to categorize feauteres in different number of groups etc.**"
   ]
  }
 ],
 "metadata": {
  "kernelspec": {
   "display_name": "Python 3.8.2 ('MLCourse')",
   "language": "python",
   "name": "python3"
  },
  "language_info": {
   "codemirror_mode": {
    "name": "ipython",
    "version": 3
   },
   "file_extension": ".py",
   "mimetype": "text/x-python",
   "name": "python",
   "nbconvert_exporter": "python",
   "pygments_lexer": "ipython3",
   "version": "3.8.2"
  },
  "vscode": {
   "interpreter": {
    "hash": "bb316591565b445822851e813036a21f860d8711056071eca065158ccace11a2"
   }
  }
 },
 "nbformat": 4,
 "nbformat_minor": 5
}
